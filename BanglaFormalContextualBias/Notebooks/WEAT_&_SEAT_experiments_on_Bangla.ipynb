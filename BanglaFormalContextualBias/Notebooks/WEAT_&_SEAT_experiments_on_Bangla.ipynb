{
 "cells": [
  {
   "cell_type": "code",
   "execution_count": 1,
   "metadata": {
    "id": "OXAHmrXsZCYk"
   },
   "outputs": [],
   "source": [
    "import logging as log\n",
    "import math\n",
    "import itertools as it\n",
    "import numpy as np\n",
    "import scipy.special\n",
    "import scipy.stats\n",
    "\n",
    "import torch\n",
    "import pandas as pd\n",
    "import numpy as np\n",
    "from pathlib import Path\n",
    "from typing import *\n",
    "%matplotlib inline\n",
    "import sys\n",
    "import os"
   ]
  },
  {
   "cell_type": "code",
   "execution_count": null,
   "metadata": {},
   "outputs": [],
   "source": [
    "from google.colab import drive"
   ]
  },
  {
   "cell_type": "code",
   "execution_count": null,
   "metadata": {
    "colab": {
     "base_uri": "https://localhost:8080/"
    },
    "id": "8gH5vlDkq4-I",
    "outputId": "f5cd3945-5e23-45b8-8651-33b72e620949"
   },
   "outputs": [
    {
     "name": "stdout",
     "output_type": "stream",
     "text": [
      "Mounted at /content/drive\n"
     ]
    }
   ],
   "source": [
    "drive.mount('/content/drive')"
   ]
  },
  {
   "cell_type": "markdown",
   "metadata": {
    "id": "NmRB-ikNLd0c"
   },
   "source": [
    "WEAT data copying"
   ]
  },
  {
   "cell_type": "code",
   "execution_count": null,
   "metadata": {
    "id": "4aJ9lv8BLfWP"
   },
   "outputs": [],
   "source": [
    "! cp -R /content/drive/MyDrive/Contextual_Bias_Data/weat_bn_data /content/"
   ]
  },
  {
   "cell_type": "markdown",
   "metadata": {
    "id": "anp1dr4NvvzY"
   },
   "source": [
    "SEAT data copying"
   ]
  },
  {
   "cell_type": "code",
   "execution_count": null,
   "metadata": {
    "id": "1B-SaGEavxki"
   },
   "outputs": [],
   "source": [
    "! cp -R /content/drive/MyDrive/Contextual_Bias_Data/seat_bn_data /content/"
   ]
  },
  {
   "cell_type": "markdown",
   "metadata": {
    "id": "C5cvCgCYLXP4"
   },
   "source": [
    "GloVe model copying"
   ]
  },
  {
   "cell_type": "code",
   "execution_count": null,
   "metadata": {
    "id": "09ttNMews3sw"
   },
   "outputs": [],
   "source": [
    "! cp -R /content/drive/MyDrive/Contextual_Bias_Data/bn_glove.39M.300d.txt /content/"
   ]
  },
  {
   "cell_type": "markdown",
   "metadata": {
    "id": "Vt5Mo1AnLqdq"
   },
   "source": [
    "word2vec model copying"
   ]
  },
  {
   "cell_type": "code",
   "execution_count": null,
   "metadata": {
    "id": "J-oOrBLXLp8Q"
   },
   "outputs": [],
   "source": [
    "! cp -R /content/drive/MyDrive/Contextual_Bias_Data/bangla_embeddings/full_data/w2v_512 /content/"
   ]
  },
  {
   "cell_type": "code",
   "execution_count": 2,
   "metadata": {
    "colab": {
     "base_uri": "https://localhost:8080/",
     "height": 1000
    },
    "id": "mTTeQnjwbzZT",
    "outputId": "9da3565d-cdc2-4165-cb2e-996d2234a7d2"
   },
   "outputs": [
    {
     "name": "stdout",
     "output_type": "stream",
     "text": [
      "Collecting bnlp_toolkit\n",
      "  Downloading bnlp_toolkit-4.0.3-py3-none-any.whl.metadata (3.3 kB)\n",
      "Requirement already satisfied: sentencepiece==0.2.0 in /usr/local/lib/python3.10/dist-packages (from bnlp_toolkit) (0.2.0)\n",
      "Collecting gensim==4.3.2 (from bnlp_toolkit)\n",
      "  Downloading gensim-4.3.2-cp310-cp310-manylinux_2_17_x86_64.manylinux2014_x86_64.whl.metadata (8.4 kB)\n",
      "Requirement already satisfied: nltk in /usr/local/lib/python3.10/dist-packages (from bnlp_toolkit) (3.9.1)\n",
      "Requirement already satisfied: numpy in /usr/local/lib/python3.10/dist-packages (from bnlp_toolkit) (1.26.4)\n",
      "Collecting scipy==1.10.1 (from bnlp_toolkit)\n",
      "  Downloading scipy-1.10.1-cp310-cp310-manylinux_2_17_x86_64.manylinux2014_x86_64.whl.metadata (58 kB)\n",
      "\u001b[2K     \u001b[90m━━━━━━━━━━━━━━━━━━━━━━━━━━━━━━━━━━━━━━━━\u001b[0m \u001b[32m58.9/58.9 kB\u001b[0m \u001b[31m3.5 MB/s\u001b[0m eta \u001b[36m0:00:00\u001b[0m\n",
      "\u001b[?25hCollecting sklearn-crfsuite==0.3.6 (from bnlp_toolkit)\n",
      "  Downloading sklearn_crfsuite-0.3.6-py2.py3-none-any.whl.metadata (3.8 kB)\n",
      "Collecting tqdm==4.66.3 (from bnlp_toolkit)\n",
      "  Downloading tqdm-4.66.3-py3-none-any.whl.metadata (57 kB)\n",
      "\u001b[2K     \u001b[90m━━━━━━━━━━━━━━━━━━━━━━━━━━━━━━━━━━━━━━━━\u001b[0m \u001b[32m57.6/57.6 kB\u001b[0m \u001b[31m3.5 MB/s\u001b[0m eta \u001b[36m0:00:00\u001b[0m\n",
      "\u001b[?25hCollecting ftfy==6.2.0 (from bnlp_toolkit)\n",
      "  Downloading ftfy-6.2.0-py3-none-any.whl.metadata (7.3 kB)\n",
      "Collecting emoji==1.7.0 (from bnlp_toolkit)\n",
      "  Downloading emoji-1.7.0.tar.gz (175 kB)\n",
      "\u001b[2K     \u001b[90m━━━━━━━━━━━━━━━━━━━━━━━━━━━━━━━━━━━━━━━━\u001b[0m \u001b[32m175.4/175.4 kB\u001b[0m \u001b[31m12.1 MB/s\u001b[0m eta \u001b[36m0:00:00\u001b[0m\n",
      "\u001b[?25h  Preparing metadata (setup.py) ... \u001b[?25l\u001b[?25hdone\n",
      "Requirement already satisfied: requests in /usr/local/lib/python3.10/dist-packages (from bnlp_toolkit) (2.32.3)\n",
      "Requirement already satisfied: wcwidth<0.3.0,>=0.2.12 in /usr/local/lib/python3.10/dist-packages (from ftfy==6.2.0->bnlp_toolkit) (0.2.13)\n",
      "Requirement already satisfied: smart-open>=1.8.1 in /usr/local/lib/python3.10/dist-packages (from gensim==4.3.2->bnlp_toolkit) (7.0.5)\n",
      "Collecting python-crfsuite>=0.8.3 (from sklearn-crfsuite==0.3.6->bnlp_toolkit)\n",
      "  Downloading python_crfsuite-0.9.11-cp310-cp310-manylinux_2_17_x86_64.manylinux2014_x86_64.whl.metadata (4.3 kB)\n",
      "Requirement already satisfied: six in /usr/local/lib/python3.10/dist-packages (from sklearn-crfsuite==0.3.6->bnlp_toolkit) (1.16.0)\n",
      "Requirement already satisfied: tabulate in /usr/local/lib/python3.10/dist-packages (from sklearn-crfsuite==0.3.6->bnlp_toolkit) (0.9.0)\n",
      "Requirement already satisfied: click in /usr/local/lib/python3.10/dist-packages (from nltk->bnlp_toolkit) (8.1.7)\n",
      "Requirement already satisfied: joblib in /usr/local/lib/python3.10/dist-packages (from nltk->bnlp_toolkit) (1.4.2)\n",
      "Requirement already satisfied: regex>=2021.8.3 in /usr/local/lib/python3.10/dist-packages (from nltk->bnlp_toolkit) (2024.9.11)\n",
      "Requirement already satisfied: charset-normalizer<4,>=2 in /usr/local/lib/python3.10/dist-packages (from requests->bnlp_toolkit) (3.4.0)\n",
      "Requirement already satisfied: idna<4,>=2.5 in /usr/local/lib/python3.10/dist-packages (from requests->bnlp_toolkit) (3.10)\n",
      "Requirement already satisfied: urllib3<3,>=1.21.1 in /usr/local/lib/python3.10/dist-packages (from requests->bnlp_toolkit) (2.2.3)\n",
      "Requirement already satisfied: certifi>=2017.4.17 in /usr/local/lib/python3.10/dist-packages (from requests->bnlp_toolkit) (2024.8.30)\n",
      "Requirement already satisfied: wrapt in /usr/local/lib/python3.10/dist-packages (from smart-open>=1.8.1->gensim==4.3.2->bnlp_toolkit) (1.16.0)\n",
      "Downloading bnlp_toolkit-4.0.3-py3-none-any.whl (22 kB)\n",
      "Downloading ftfy-6.2.0-py3-none-any.whl (54 kB)\n",
      "\u001b[2K   \u001b[90m━━━━━━━━━━━━━━━━━━━━━━━━━━━━━━━━━━━━━━━━\u001b[0m \u001b[32m54.4/54.4 kB\u001b[0m \u001b[31m3.8 MB/s\u001b[0m eta \u001b[36m0:00:00\u001b[0m\n",
      "\u001b[?25hDownloading gensim-4.3.2-cp310-cp310-manylinux_2_17_x86_64.manylinux2014_x86_64.whl (26.5 MB)\n",
      "\u001b[2K   \u001b[90m━━━━━━━━━━━━━━━━━━━━━━━━━━━━━━━━━━━━━━━━\u001b[0m \u001b[32m26.5/26.5 MB\u001b[0m \u001b[31m78.6 MB/s\u001b[0m eta \u001b[36m0:00:00\u001b[0m\n",
      "\u001b[?25hDownloading scipy-1.10.1-cp310-cp310-manylinux_2_17_x86_64.manylinux2014_x86_64.whl (34.4 MB)\n",
      "\u001b[2K   \u001b[90m━━━━━━━━━━━━━━━━━━━━━━━━━━━━━━━━━━━━━━━━\u001b[0m \u001b[32m34.4/34.4 MB\u001b[0m \u001b[31m19.0 MB/s\u001b[0m eta \u001b[36m0:00:00\u001b[0m\n",
      "\u001b[?25hDownloading sklearn_crfsuite-0.3.6-py2.py3-none-any.whl (12 kB)\n",
      "Downloading tqdm-4.66.3-py3-none-any.whl (78 kB)\n",
      "\u001b[2K   \u001b[90m━━━━━━━━━━━━━━━━━━━━━━━━━━━━━━━━━━━━━━━━\u001b[0m \u001b[32m78.4/78.4 kB\u001b[0m \u001b[31m7.4 MB/s\u001b[0m eta \u001b[36m0:00:00\u001b[0m\n",
      "\u001b[?25hDownloading python_crfsuite-0.9.11-cp310-cp310-manylinux_2_17_x86_64.manylinux2014_x86_64.whl (1.2 MB)\n",
      "\u001b[2K   \u001b[90m━━━━━━━━━━━━━━━━━━━━━━━━━━━━━━━━━━━━━━━━\u001b[0m \u001b[32m1.2/1.2 MB\u001b[0m \u001b[31m60.2 MB/s\u001b[0m eta \u001b[36m0:00:00\u001b[0m\n",
      "\u001b[?25hBuilding wheels for collected packages: emoji\n",
      "  Building wheel for emoji (setup.py) ... \u001b[?25l\u001b[?25hdone\n",
      "  Created wheel for emoji: filename=emoji-1.7.0-py3-none-any.whl size=171033 sha256=d79aacde52a3f4e28e43c4ac03febb61af26ca6d3cf7c22f4d82ef1d1d649146\n",
      "  Stored in directory: /root/.cache/pip/wheels/31/8a/8c/315c9e5d7773f74b33d5ed33f075b49c6eaeb7cedbb86e2cf8\n",
      "Successfully built emoji\n",
      "Installing collected packages: emoji, tqdm, scipy, python-crfsuite, ftfy, sklearn-crfsuite, gensim, bnlp_toolkit\n",
      "  Attempting uninstall: tqdm\n",
      "    Found existing installation: tqdm 4.66.6\n",
      "    Uninstalling tqdm-4.66.6:\n",
      "      Successfully uninstalled tqdm-4.66.6\n",
      "  Attempting uninstall: scipy\n",
      "    Found existing installation: scipy 1.13.1\n",
      "    Uninstalling scipy-1.13.1:\n",
      "      Successfully uninstalled scipy-1.13.1\n",
      "  Attempting uninstall: gensim\n",
      "    Found existing installation: gensim 4.3.3\n",
      "    Uninstalling gensim-4.3.3:\n",
      "      Successfully uninstalled gensim-4.3.3\n",
      "Successfully installed bnlp_toolkit-4.0.3 emoji-1.7.0 ftfy-6.2.0 gensim-4.3.2 python-crfsuite-0.9.11 scipy-1.10.1 sklearn-crfsuite-0.3.6 tqdm-4.66.3\n"
     ]
    },
    {
     "data": {
      "application/vnd.colab-display-data+json": {
       "id": "e4a6da67a69b4418ad236e3061f5c7fb",
       "pip_warning": {
        "packages": [
         "tqdm"
        ]
       }
      }
     },
     "metadata": {},
     "output_type": "display_data"
    }
   ],
   "source": [
    "! pip install bnlp_toolkit"
   ]
  },
  {
   "cell_type": "code",
   "execution_count": 1,
   "metadata": {
    "colab": {
     "base_uri": "https://localhost:8080/"
    },
    "id": "7b3bu4YhIfpw",
    "outputId": "002b7af4-11fc-476e-dc13-e2a0ba83c11f"
   },
   "outputs": [
    {
     "name": "stdout",
     "output_type": "stream",
     "text": [
      "Requirement already satisfied: gensim in /usr/local/lib/python3.10/dist-packages (4.3.2)\n",
      "Requirement already satisfied: numpy>=1.18.5 in /usr/local/lib/python3.10/dist-packages (from gensim) (1.26.4)\n",
      "Requirement already satisfied: scipy>=1.7.0 in /usr/local/lib/python3.10/dist-packages (from gensim) (1.10.1)\n",
      "Requirement already satisfied: smart-open>=1.8.1 in /usr/local/lib/python3.10/dist-packages (from gensim) (7.0.5)\n",
      "Requirement already satisfied: wrapt in /usr/local/lib/python3.10/dist-packages (from smart-open>=1.8.1->gensim) (1.16.0)\n"
     ]
    }
   ],
   "source": [
    "! pip install gensim"
   ]
  },
  {
   "cell_type": "code",
   "execution_count": 2,
   "metadata": {
    "colab": {
     "base_uri": "https://localhost:8080/"
    },
    "id": "gYaoR6qh0puQ",
    "outputId": "20a9d28b-f427-4851-e3f5-e110ecf9b0b7"
   },
   "outputs": [
    {
     "name": "stdout",
     "output_type": "stream",
     "text": [
      "Collecting git+https://github.com/csebuetnlp/normalizer\n",
      "  Cloning https://github.com/csebuetnlp/normalizer to /tmp/pip-req-build-zdubnmyl\n",
      "  Running command git clone --filter=blob:none --quiet https://github.com/csebuetnlp/normalizer /tmp/pip-req-build-zdubnmyl\n",
      "  Resolved https://github.com/csebuetnlp/normalizer to commit d405944dde5ceeacb7c2fd3245ae2a9dea5f35c9\n",
      "  Preparing metadata (setup.py) ... \u001b[?25l\u001b[?25hdone\n",
      "Requirement already satisfied: regex in /usr/local/lib/python3.10/dist-packages (from normalizer==0.0.1) (2024.9.11)\n",
      "Collecting emoji==1.4.2 (from normalizer==0.0.1)\n",
      "  Downloading emoji-1.4.2.tar.gz (184 kB)\n",
      "\u001b[2K     \u001b[90m━━━━━━━━━━━━━━━━━━━━━━━━━━━━━━━━━━━━━━━━\u001b[0m \u001b[32m185.0/185.0 kB\u001b[0m \u001b[31m4.0 MB/s\u001b[0m eta \u001b[36m0:00:00\u001b[0m\n",
      "\u001b[?25h  Preparing metadata (setup.py) ... \u001b[?25l\u001b[?25hdone\n",
      "Collecting ftfy==6.0.3 (from normalizer==0.0.1)\n",
      "  Downloading ftfy-6.0.3.tar.gz (64 kB)\n",
      "\u001b[2K     \u001b[90m━━━━━━━━━━━━━━━━━━━━━━━━━━━━━━━━━━━━━━━━\u001b[0m \u001b[32m64.2/64.2 kB\u001b[0m \u001b[31m5.0 MB/s\u001b[0m eta \u001b[36m0:00:00\u001b[0m\n",
      "\u001b[?25h  Preparing metadata (setup.py) ... \u001b[?25l\u001b[?25hdone\n",
      "Requirement already satisfied: wcwidth in /usr/local/lib/python3.10/dist-packages (from ftfy==6.0.3->normalizer==0.0.1) (0.2.13)\n",
      "Building wheels for collected packages: normalizer, emoji, ftfy\n",
      "  Building wheel for normalizer (setup.py) ... \u001b[?25l\u001b[?25hdone\n",
      "  Created wheel for normalizer: filename=normalizer-0.0.1-py3-none-any.whl size=6860 sha256=7c0df5d7a5cf266fbf7eb42090286560a009faf852108e2125cff9b19d43e820\n",
      "  Stored in directory: /tmp/pip-ephem-wheel-cache-tv7wg4sg/wheels/2e/79/9c/cd96d490298305d51d2da11484bb2c25fd1f759a6906708282\n",
      "  Building wheel for emoji (setup.py) ... \u001b[?25l\u001b[?25hdone\n",
      "  Created wheel for emoji: filename=emoji-1.4.2-py3-none-any.whl size=186455 sha256=65f1d090beb71f78632ffeb28b20e54fb669e8362b2b3bac8a83fd3d4a022d35\n",
      "  Stored in directory: /root/.cache/pip/wheels/10/f0/fd/4813b1177405693e8da9cdea839f0fb64fde161380e058c827\n",
      "  Building wheel for ftfy (setup.py) ... \u001b[?25l\u001b[?25hdone\n",
      "  Created wheel for ftfy: filename=ftfy-6.0.3-py3-none-any.whl size=41931 sha256=732bd1bc5eb065f549ac6c6dc738ce8f9ad5b90f6e25ab9c6eca7cdc73128126\n",
      "  Stored in directory: /root/.cache/pip/wheels/92/8e/16/c1e4d4d65685d71085e4e27b44d6ed880b0559474c9ee4ff66\n",
      "Successfully built normalizer emoji ftfy\n",
      "Installing collected packages: emoji, ftfy, normalizer\n",
      "  Attempting uninstall: emoji\n",
      "    Found existing installation: emoji 1.7.0\n",
      "    Uninstalling emoji-1.7.0:\n",
      "      Successfully uninstalled emoji-1.7.0\n",
      "  Attempting uninstall: ftfy\n",
      "    Found existing installation: ftfy 6.2.0\n",
      "    Uninstalling ftfy-6.2.0:\n",
      "      Successfully uninstalled ftfy-6.2.0\n",
      "\u001b[31mERROR: pip's dependency resolver does not currently take into account all the packages that are installed. This behaviour is the source of the following dependency conflicts.\n",
      "bnlp-toolkit 4.0.3 requires emoji==1.7.0, but you have emoji 1.4.2 which is incompatible.\n",
      "bnlp-toolkit 4.0.3 requires ftfy==6.2.0, but you have ftfy 6.0.3 which is incompatible.\u001b[0m\u001b[31m\n",
      "\u001b[0mSuccessfully installed emoji-1.4.2 ftfy-6.0.3 normalizer-0.0.1\n",
      "Requirement already satisfied: transformers in /usr/local/lib/python3.10/dist-packages (4.46.2)\n",
      "Requirement already satisfied: filelock in /usr/local/lib/python3.10/dist-packages (from transformers) (3.16.1)\n",
      "Requirement already satisfied: huggingface-hub<1.0,>=0.23.2 in /usr/local/lib/python3.10/dist-packages (from transformers) (0.26.2)\n",
      "Requirement already satisfied: numpy>=1.17 in /usr/local/lib/python3.10/dist-packages (from transformers) (1.26.4)\n",
      "Requirement already satisfied: packaging>=20.0 in /usr/local/lib/python3.10/dist-packages (from transformers) (24.2)\n",
      "Requirement already satisfied: pyyaml>=5.1 in /usr/local/lib/python3.10/dist-packages (from transformers) (6.0.2)\n",
      "Requirement already satisfied: regex!=2019.12.17 in /usr/local/lib/python3.10/dist-packages (from transformers) (2024.9.11)\n",
      "Requirement already satisfied: requests in /usr/local/lib/python3.10/dist-packages (from transformers) (2.32.3)\n",
      "Requirement already satisfied: safetensors>=0.4.1 in /usr/local/lib/python3.10/dist-packages (from transformers) (0.4.5)\n",
      "Requirement already satisfied: tokenizers<0.21,>=0.20 in /usr/local/lib/python3.10/dist-packages (from transformers) (0.20.3)\n",
      "Requirement already satisfied: tqdm>=4.27 in /usr/local/lib/python3.10/dist-packages (from transformers) (4.66.3)\n",
      "Requirement already satisfied: fsspec>=2023.5.0 in /usr/local/lib/python3.10/dist-packages (from huggingface-hub<1.0,>=0.23.2->transformers) (2024.10.0)\n",
      "Requirement already satisfied: typing-extensions>=3.7.4.3 in /usr/local/lib/python3.10/dist-packages (from huggingface-hub<1.0,>=0.23.2->transformers) (4.12.2)\n",
      "Requirement already satisfied: charset-normalizer<4,>=2 in /usr/local/lib/python3.10/dist-packages (from requests->transformers) (3.4.0)\n",
      "Requirement already satisfied: idna<4,>=2.5 in /usr/local/lib/python3.10/dist-packages (from requests->transformers) (3.10)\n",
      "Requirement already satisfied: urllib3<3,>=1.21.1 in /usr/local/lib/python3.10/dist-packages (from requests->transformers) (2.2.3)\n",
      "Requirement already satisfied: certifi>=2017.4.17 in /usr/local/lib/python3.10/dist-packages (from requests->transformers) (2024.8.30)\n"
     ]
    }
   ],
   "source": [
    "! pip install git+https://github.com/csebuetnlp/normalizer\n",
    "! pip install transformers"
   ]
  },
  {
   "cell_type": "code",
   "execution_count": 3,
   "metadata": {
    "colab": {
     "base_uri": "https://localhost:8080/"
    },
    "id": "t7EMbIY35YKg",
    "outputId": "570f4688-d8c2-47aa-9628-35feca700d62"
   },
   "outputs": [
    {
     "name": "stdout",
     "output_type": "stream",
     "text": [
      "punkt not found. downloading...\n"
     ]
    },
    {
     "name": "stderr",
     "output_type": "stream",
     "text": [
      "[nltk_data] Downloading package punkt_tab to /root/nltk_data...\n",
      "[nltk_data]   Unzipping tokenizers/punkt_tab.zip.\n"
     ]
    }
   ],
   "source": [
    "from bnlp import BengaliGlove"
   ]
  },
  {
   "cell_type": "code",
   "execution_count": null,
   "metadata": {
    "colab": {
     "base_uri": "https://localhost:8080/"
    },
    "id": "YTc478xcb8we",
    "outputId": "2a817dc7-9f8c-4e04-f121-1fc58a26487b"
   },
   "outputs": [
    {
     "name": "stdout",
     "output_type": "stream",
     "text": [
      "punkt not found. downloading...\n"
     ]
    },
    {
     "name": "stderr",
     "output_type": "stream",
     "text": [
      "[nltk_data] Downloading package punkt to /root/nltk_data...\n",
      "[nltk_data]   Unzipping tokenizers/punkt.zip.\n",
      "WARNING:root:The current version (3.3.2) of bnlp will not be compatible with the upcoming release.\n",
      "If you are using version <=3.3.2 please specify bnlp_toolkit with exact version, otherwise it will raises error in the upcoming version. \n",
      "To migrate feel free to checkout the newer version (4.0.0). It will release soon as beta.\n"
     ]
    }
   ],
   "source": [
    "glove_path = '/content/bn_glove.39M.300d.txt'"
   ]
  },
  {
   "cell_type": "code",
   "execution_count": 4,
   "metadata": {
    "id": "o-qeUCK4OPuI"
   },
   "outputs": [],
   "source": [
    "from gensim.models import Word2Vec"
   ]
  },
  {
   "cell_type": "markdown",
   "metadata": {
    "id": "DQivXk2x03nw"
   },
   "source": [
    "### Model fetching from transformers"
   ]
  },
  {
   "cell_type": "code",
   "execution_count": 7,
   "metadata": {
    "id": "QPyiLc7Q51UL"
   },
   "outputs": [],
   "source": [
    "from transformers import AutoTokenizer, AutoModelForMaskedLM\n",
    "from normalizer import normalize"
   ]
  },
  {
   "cell_type": "code",
   "execution_count": 6,
   "metadata": {
    "colab": {
     "base_uri": "https://localhost:8080/",
     "height": 1000,
     "referenced_widgets": [
      "2ed278099b6d47a2ad0b039df99de67f",
      "2d0ff49d17374091b3dd818953c1634e",
      "2f72485e6c8b4ad0b79911fb666d385d",
      "9cbe3f1623c7460c809e8c5665629258",
      "9a6198192e714f86ba8fc66fd97fc7b4",
      "ce3f87f3592b486fa41cd4f917e52408",
      "739fea3f0d37486b8618b18767c1b8d1",
      "34b348d181074e06bb79f990a7b1426d",
      "de4f4566200a48418a22ca2537c505a9",
      "40f851435c88435bbf3bbb4248e1268c",
      "6817c8edc2794d9d859d5fe67ca4e7e4",
      "329b11706c484a7f801460d7299112b6",
      "7e702e7c2d73482fb3135a908633565d",
      "a2d7e9dd76d949a2a9b8e053ba9c0ac2",
      "84b7bc21e6124f8a897e5ce504ebc3c9",
      "7c146cd0d06f41518f413f4a46239543",
      "5a3b39483d624d4b9d6e82986a05fb12",
      "33dffb521d864a46b2e780596a61ed82",
      "27d7f6d4fea349b492814d032986a3a1",
      "4eba335d47394581b59c961292878d7b",
      "db8b6c598a0d4a43b9b6095f84b4caee",
      "ebc92812a0324b4cbad93a689b2a5c9a",
      "8cb4aa9a839d4bcc9d36bedbc5b0f05b",
      "8f2dee81e1f84746a23e0e6254623494",
      "a396cba46dac498f8dae5f0b46f10cb9",
      "8edd9fcca2744ea88fa88d9098209020",
      "6d5f06e8d9ac4e178e3b188cf72eec83",
      "e74a912b23e2445ebe6bd051f10356c2",
      "ceb5315d8e0f4ab6a6a353852cc012da",
      "1ca2f702caa447c597983b5b2bab3742",
      "ffc41199c10b4fd6bb5a84afcea0e0de",
      "881d48a4af74401d8b4bc9c35a22e7a8",
      "2695c1fe9638411fa0353417cfeab289",
      "fafcee897eef4ea6a5cca53d0f82bef7",
      "e2467fa2af32402a8da2cd57bb3c775c",
      "b9017beee02f48b2a53ae1df97f38ae7",
      "ec824297a3eb44bb93b3e5a42720169b",
      "f88f36619f07484da065b607fcae9a99",
      "52d6a888db954509a4f8ebedf7619f52",
      "9dce15fbb82443d28669ca06c622330b",
      "401f226c08e4436c81f745292cdc195e",
      "1fa304d5ee6e4ba0b041107003af2234",
      "7980e87caac54eebbb8b170728b5214c",
      "ac0cc1f6f52440aeb8c197b946ff2130",
      "627dd8b1fb95471bb9306aca32754ff6",
      "2fdb0d5a458d41e08ef214e77b790115",
      "5682419d7e23442794a309e7f9195a73",
      "647f076046f4496c89acfa1e16e08061",
      "00de10a6938a4ac7837329b81ffe70aa",
      "d510b2f8b8d44553911499bdbb1d3261",
      "b741a7d6ca584d589a955016c562610c",
      "a237d65432d6484c8192b07c862ec131",
      "4a7b11ef873f46c1b5384f55586babcb",
      "bb17c7582c804309903d385636af738d",
      "cde20070c60643acb212c7da1fb28c73"
     ]
    },
    "id": "oM4YWo4K07R-",
    "outputId": "fc0c0971-66c5-4d1c-c2f5-b97dde6ab1d3"
   },
   "outputs": [
    {
     "data": {
      "application/vnd.jupyter.widget-view+json": {
       "model_id": "2ed278099b6d47a2ad0b039df99de67f",
       "version_major": 2,
       "version_minor": 0
      },
      "text/plain": [
       "tokenizer_config.json:   0%|          | 0.00/119 [00:00<?, ?B/s]"
      ]
     },
     "metadata": {},
     "output_type": "display_data"
    },
    {
     "data": {
      "application/vnd.jupyter.widget-view+json": {
       "model_id": "329b11706c484a7f801460d7299112b6",
       "version_major": 2,
       "version_minor": 0
      },
      "text/plain": [
       "config.json:   0%|          | 0.00/880 [00:00<?, ?B/s]"
      ]
     },
     "metadata": {},
     "output_type": "display_data"
    },
    {
     "data": {
      "application/vnd.jupyter.widget-view+json": {
       "model_id": "8cb4aa9a839d4bcc9d36bedbc5b0f05b",
       "version_major": 2,
       "version_minor": 0
      },
      "text/plain": [
       "vocab.txt:   0%|          | 0.00/528k [00:00<?, ?B/s]"
      ]
     },
     "metadata": {},
     "output_type": "display_data"
    },
    {
     "data": {
      "application/vnd.jupyter.widget-view+json": {
       "model_id": "fafcee897eef4ea6a5cca53d0f82bef7",
       "version_major": 2,
       "version_minor": 0
      },
      "text/plain": [
       "special_tokens_map.json:   0%|          | 0.00/112 [00:00<?, ?B/s]"
      ]
     },
     "metadata": {},
     "output_type": "display_data"
    },
    {
     "data": {
      "application/vnd.jupyter.widget-view+json": {
       "model_id": "627dd8b1fb95471bb9306aca32754ff6",
       "version_major": 2,
       "version_minor": 0
      },
      "text/plain": [
       "pytorch_model.bin:   0%|          | 0.00/1.35G [00:00<?, ?B/s]"
      ]
     },
     "metadata": {},
     "output_type": "display_data"
    },
    {
     "name": "stderr",
     "output_type": "stream",
     "text": [
      "Some weights of ElectraForMaskedLM were not initialized from the model checkpoint at csebuetnlp/banglabert_large and are newly initialized: ['generator_lm_head.bias', 'generator_predictions.LayerNorm.bias', 'generator_predictions.LayerNorm.weight', 'generator_predictions.dense.bias', 'generator_predictions.dense.weight']\n",
      "You should probably TRAIN this model on a down-stream task to be able to use it for predictions and inference.\n"
     ]
    },
    {
     "data": {
      "text/plain": [
       "ElectraForMaskedLM(\n",
       "  (electra): ElectraModel(\n",
       "    (embeddings): ElectraEmbeddings(\n",
       "      (word_embeddings): Embedding(32000, 1024, padding_idx=0)\n",
       "      (position_embeddings): Embedding(512, 1024)\n",
       "      (token_type_embeddings): Embedding(2, 1024)\n",
       "      (LayerNorm): LayerNorm((1024,), eps=1e-12, elementwise_affine=True)\n",
       "      (dropout): Dropout(p=0.1, inplace=False)\n",
       "    )\n",
       "    (encoder): ElectraEncoder(\n",
       "      (layer): ModuleList(\n",
       "        (0-23): 24 x ElectraLayer(\n",
       "          (attention): ElectraAttention(\n",
       "            (self): ElectraSelfAttention(\n",
       "              (query): Linear(in_features=1024, out_features=1024, bias=True)\n",
       "              (key): Linear(in_features=1024, out_features=1024, bias=True)\n",
       "              (value): Linear(in_features=1024, out_features=1024, bias=True)\n",
       "              (dropout): Dropout(p=0.1, inplace=False)\n",
       "            )\n",
       "            (output): ElectraSelfOutput(\n",
       "              (dense): Linear(in_features=1024, out_features=1024, bias=True)\n",
       "              (LayerNorm): LayerNorm((1024,), eps=1e-12, elementwise_affine=True)\n",
       "              (dropout): Dropout(p=0.1, inplace=False)\n",
       "            )\n",
       "          )\n",
       "          (intermediate): ElectraIntermediate(\n",
       "            (dense): Linear(in_features=1024, out_features=4096, bias=True)\n",
       "            (intermediate_act_fn): GELUActivation()\n",
       "          )\n",
       "          (output): ElectraOutput(\n",
       "            (dense): Linear(in_features=4096, out_features=1024, bias=True)\n",
       "            (LayerNorm): LayerNorm((1024,), eps=1e-12, elementwise_affine=True)\n",
       "            (dropout): Dropout(p=0.1, inplace=False)\n",
       "          )\n",
       "        )\n",
       "      )\n",
       "    )\n",
       "  )\n",
       "  (generator_predictions): ElectraGeneratorPredictions(\n",
       "    (activation): GELUActivation()\n",
       "    (LayerNorm): LayerNorm((1024,), eps=1e-12, elementwise_affine=True)\n",
       "    (dense): Linear(in_features=1024, out_features=1024, bias=True)\n",
       "  )\n",
       "  (generator_lm_head): Linear(in_features=1024, out_features=32000, bias=True)\n",
       ")"
      ]
     },
     "execution_count": 6,
     "metadata": {},
     "output_type": "execute_result"
    }
   ],
   "source": [
    "tokenizer = AutoTokenizer.from_pretrained(\"csebuetnlp/banglabert_large\")\n",
    "model = AutoModelForMaskedLM.from_pretrained(\"csebuetnlp/banglabert_large\", output_hidden_states = True)\n",
    "model.eval()"
   ]
  },
  {
   "cell_type": "markdown",
   "metadata": {
    "id": "P2u74uLT1A2j"
   },
   "source": [
    "### WEAT implementing"
   ]
  },
  {
   "cell_type": "markdown",
   "metadata": {
    "id": "5JmsmTFO7U5v"
   },
   "source": [
    "Json data loading"
   ]
  },
  {
   "cell_type": "code",
   "execution_count": 8,
   "metadata": {
    "id": "zB8a2Jq85pn0"
   },
   "outputs": [],
   "source": [
    "import json"
   ]
  },
  {
   "cell_type": "code",
   "execution_count": 9,
   "metadata": {
    "id": "kGbAdD-lRCJ_"
   },
   "outputs": [],
   "source": [
    "def load_json(sent_file):\n",
    "    print(f\"Loading {sent_file}...\")\n",
    "    all_data = json.load(open(sent_file, 'r'))\n",
    "    data = {}\n",
    "    targets = [ all_data['targ1']['category'], all_data['targ2']['category'] ]\n",
    "    attributes = [all_data['attr1']['category'], all_data['attr2']['category']]\n",
    "    for k, v in all_data.items():\n",
    "        examples = v[\"examples\"]\n",
    "        data[k] = examples\n",
    "        v[\"examples\"] = examples\n",
    "\n",
    "    return all_data, targets, attributes"
   ]
  },
  {
   "cell_type": "code",
   "execution_count": null,
   "metadata": {
    "id": "4dZ_unURSer2"
   },
   "outputs": [],
   "source": [
    "data, targets, attributes = load_json('/content/weat_bn_data/weat6b.jsonl')\n",
    "print(targets)\n",
    "print(attributes)"
   ]
  },
  {
   "cell_type": "code",
   "execution_count": null,
   "metadata": {
    "id": "ktDR87dQhk99"
   },
   "outputs": [],
   "source": [
    "def encode(model, data, MODEL_NAME):\n",
    "    dict_word2vec = {}\n",
    "    if MODEL_NAME == 'glove':\n",
    "        for word in data:\n",
    "            vector = model.word2vec(glove_path, word)\n",
    "            dict_word2vec[word] = vector\n",
    "    elif MODEL_NAME == 'w2v':\n",
    "        for word in data:\n",
    "            vector = model.wv[word]\n",
    "            dict_word2vec[word] = vector\n",
    "\n",
    "    elif MODEL_NAME == 'bert':\n",
    "        for i, word in enumerate(data['words']):\n",
    "            itr = 0\n",
    "            vector_sum = np.zeros(1024, dtype=float)\n",
    "            while itr < data['count']:\n",
    "                word_vector, _ = get_word_vector_normal(data['examples'][i*data['count'] + itr], word)\n",
    "                vector_sum = np.add(vector_sum, word_vector)\n",
    "                itr +=1\n",
    "            average_vector = vector_sum / data['count']\n",
    "            dict_word2vec[word] = average_vector\n",
    "\n",
    "    return dict_word2vec"
   ]
  },
  {
   "cell_type": "code",
   "execution_count": null,
   "metadata": {
    "id": "s9aZTJ3ZPeA9"
   },
   "outputs": [],
   "source": [
    "dict_word2vec = encode(model, all_seat_data[0]['targ1'], 'bert')\n",
    "type(dict_word2vec['গোলাপ'])"
   ]
  },
  {
   "cell_type": "code",
   "execution_count": 10,
   "metadata": {
    "id": "VN0P607-htfd"
   },
   "outputs": [],
   "source": [
    "def encode_data(model, data, MODEL_NAME, suppress_printables = False):\n",
    "    if suppress_printables == False:\n",
    "        print('encoding data...')\n",
    "    if MODEL_NAME == 'bert':\n",
    "        encs_targ1 = encode(model, data[\"targ1\"], MODEL_NAME)\n",
    "        encs_targ2 = encode(model, data[\"targ2\"], MODEL_NAME)\n",
    "        encs_attr1 = encode(model, data[\"attr1\"], MODEL_NAME)\n",
    "        encs_attr2 = encode(model, data[\"attr2\"], MODEL_NAME)\n",
    "    else:\n",
    "        encs_targ1 = encode(model, data[\"targ1\"][\"examples\"], MODEL_NAME)\n",
    "        encs_targ2 = encode(model, data[\"targ2\"][\"examples\"], MODEL_NAME)\n",
    "        encs_attr1 = encode(model, data[\"attr1\"][\"examples\"], MODEL_NAME)\n",
    "        encs_attr2 = encode(model, data[\"attr2\"][\"examples\"], MODEL_NAME)\n",
    "\n",
    "    return encs_targ1, encs_targ2, encs_attr1, encs_attr2"
   ]
  },
  {
   "cell_type": "code",
   "execution_count": 11,
   "metadata": {
    "id": "wEojlJZvi8k1"
   },
   "outputs": [],
   "source": [
    "def add_encodings_to_dict(data, encs_targ1, encs_targ2, encs_attr1, encs_attr2, suppress_printables = False):\n",
    "    if suppress_printables == False:\n",
    "        print('adding encoded vectors to data dict...')\n",
    "    data[\"targ1\"][\"encs\"] = encs_targ1\n",
    "    data[\"targ2\"][\"encs\"] = encs_targ2\n",
    "    data[\"attr1\"][\"encs\"] = encs_attr1\n",
    "    data[\"attr2\"][\"encs\"] = encs_attr2"
   ]
  },
  {
   "cell_type": "code",
   "execution_count": null,
   "metadata": {
    "id": "0YrVK2_nOJI4"
   },
   "outputs": [],
   "source": [
    "CATEGORIES = ['targ1', 'targ2', 'attr1', 'attr2']\n",
    "def save_encodings(data, filename):\n",
    "    for category in CATEGORIES:\n",
    "        for word, vec in data[category]['encs'].items():\n",
    "            data[category]['encs'][word] = data[category]['encs'][word].tolist()\n",
    "    with open('/content/weat_bn_encoded_data/weat8b_enc.jsonl', 'w') as f:\n",
    "        json.dump(data, f)"
   ]
  },
  {
   "cell_type": "markdown",
   "metadata": {
    "id": "z3e6o62V44PM"
   },
   "source": [
    "\n",
    "Similarity score calculating"
   ]
  },
  {
   "cell_type": "code",
   "execution_count": 12,
   "metadata": {
    "id": "o4zWllQVZwBO"
   },
   "outputs": [],
   "source": [
    "def cosine_similarity(x, y):\n",
    "    return np.dot(x, y) / (np.linalg.norm(x) * np.linalg.norm(y))"
   ]
  },
  {
   "cell_type": "code",
   "execution_count": 13,
   "metadata": {
    "id": "vXys6VdTaM02"
   },
   "outputs": [],
   "source": [
    "def construct_cossim_lookup(XY, AB):\n",
    "    cossims = np.zeros((len(XY), len(AB)))\n",
    "    for xy in XY:\n",
    "        for ab in AB:\n",
    "            cossims[xy, ab] = cosine_similarity(XY[xy], AB[ab])\n",
    "    return cossims"
   ]
  },
  {
   "cell_type": "code",
   "execution_count": 14,
   "metadata": {
    "id": "JOki05yMqwVW"
   },
   "outputs": [],
   "source": [
    "def s_wAB(A, B, cossims):\n",
    "    return cossims[:, A].mean(axis=1) - cossims[:, B].mean(axis=1)"
   ]
  },
  {
   "cell_type": "code",
   "execution_count": 15,
   "metadata": {
    "id": "Tjl7f6z60ZQp"
   },
   "outputs": [],
   "source": [
    "def s_XAB(X, s_wAB_memo):\n",
    "    return s_wAB_memo[X].sum()\n",
    "\n",
    "def s_XYAB(X, Y, s_wAB_memo):\n",
    "    return s_XAB(X, s_wAB_memo) - s_XAB(Y, s_wAB_memo)"
   ]
  },
  {
   "cell_type": "markdown",
   "metadata": {
    "id": "oVSCtzt50mYO"
   },
   "source": [
    "Permutation testing"
   ]
  },
  {
   "cell_type": "code",
   "execution_count": 16,
   "metadata": {
    "id": "uDIAfMld0kke"
   },
   "outputs": [],
   "source": [
    "def p_val_permutation_test(X, Y, A, B, n_samples, cossims, parametric=False, suppress_printables = False):\n",
    "    X = np.array(list(X), dtype=int)\n",
    "    Y = np.array(list(Y), dtype=int)\n",
    "    A = np.array(list(A), dtype=int)\n",
    "    B = np.array(list(B), dtype=int)\n",
    "\n",
    "    assert len(X) == len(Y)\n",
    "    size = len(X)\n",
    "    s_wAB_memo = s_wAB(A, B, cossims=cossims)\n",
    "    XY = np.concatenate((X, Y))\n",
    "\n",
    "    if parametric:\n",
    "        if suppress_printables == False:\n",
    "            print('Using parametric test')\n",
    "        s = s_XYAB(X, Y, s_wAB_memo)\n",
    "\n",
    "        if suppress_printables == False:\n",
    "            print('Drawing {} samples'.format(n_samples))\n",
    "        samples = []\n",
    "        for _ in range(n_samples):\n",
    "            np.random.shuffle(XY)\n",
    "            Xi = XY[:size]\n",
    "            Yi = XY[size:]\n",
    "            assert len(Xi) == len(Yi)\n",
    "            si = s_XYAB(Xi, Yi, s_wAB_memo)\n",
    "            samples.append(si)\n",
    "\n",
    "        if suppress_printables == False:\n",
    "            print('Inferring p-value based on normal distribution')\n",
    "        (shapiro_test_stat, shapiro_p_val) = scipy.stats.shapiro(samples)\n",
    "        if suppress_printables == False:\n",
    "            print('Shapiro-Wilk normality test statistic: {:.2g}, p-value: {:.2g}'.format(\n",
    "            shapiro_test_stat, shapiro_p_val))\n",
    "        sample_mean = np.mean(samples)\n",
    "        sample_std = np.std(samples, ddof=1)\n",
    "        if suppress_printables == False:\n",
    "            print('Sample mean: {:.2g}, sample standard deviation: {:.2g}'.format(\n",
    "            sample_mean, sample_std))\n",
    "        p_val = scipy.stats.norm.sf(s, loc=sample_mean, scale=sample_std)\n",
    "        return p_val\n",
    "\n",
    "    else:\n",
    "        if suppress_printables == False:\n",
    "            print('Using non-parametric test')\n",
    "        s = s_XAB(X, s_wAB_memo)\n",
    "        total_true = 0\n",
    "        total_equal = 0\n",
    "        total = 0\n",
    "\n",
    "        num_partitions = int(scipy.special.binom(2 * len(X), len(X)))\n",
    "        if num_partitions > n_samples:\n",
    "            total_true += 1\n",
    "            total += 1\n",
    "            if suppress_printables == False:\n",
    "                print('Drawing {} samples (and biasing by 1)'.format(n_samples - total))\n",
    "            for _ in range(n_samples - 1):\n",
    "                np.random.shuffle(XY)\n",
    "                Xi = XY[:size]\n",
    "                assert 2 * len(Xi) == len(XY)\n",
    "                si = s_XAB(Xi, s_wAB_memo)\n",
    "                if si > s:\n",
    "                    total_true += 1\n",
    "                elif si == s:\n",
    "                    total_true += 1\n",
    "                    total_equal += 1\n",
    "                total += 1\n",
    "\n",
    "        else:\n",
    "            if suppress_printables == False:\n",
    "                print('Using exact test ({} partitions)'.format(num_partitions))\n",
    "            for Xi in it.combinations(XY, len(X)):\n",
    "                Xi = np.array(Xi, dtype=\n",
    "                              int)\n",
    "                assert 2 * len(Xi) == len(XY)\n",
    "                si = s_XAB(Xi, s_wAB_memo)\n",
    "                if si > s:\n",
    "                    total_true += 1\n",
    "                elif si == s:\n",
    "                    total_true += 1\n",
    "                    total_equal += 1\n",
    "                total += 1\n",
    "\n",
    "        if total_equal:\n",
    "            if suppress_printables == False:\n",
    "                print('Equalities contributed {}/{} to p-value'.format(total_equal, total))\n",
    "\n",
    "        return total_true / total"
   ]
  },
  {
   "cell_type": "markdown",
   "metadata": {
    "id": "fwNQ0mlWM5Wd"
   },
   "source": [
    "Mean and Standard deviation calculating"
   ]
  },
  {
   "cell_type": "code",
   "execution_count": 17,
   "metadata": {
    "id": "DSHXSe1-M30c"
   },
   "outputs": [],
   "source": [
    "def mean_s_wAB(X, A, B, cossims):\n",
    "    return np.mean(s_wAB(A, B, cossims[X]))\n",
    "\n",
    "def stdev_s_wAB(X, A, B, cossims):\n",
    "    return np.std(s_wAB(A, B, cossims[X]), ddof=1)"
   ]
  },
  {
   "cell_type": "markdown",
   "metadata": {
    "id": "5V7UUqI6NBBo"
   },
   "source": [
    "Effect size calculating"
   ]
  },
  {
   "cell_type": "code",
   "execution_count": 18,
   "metadata": {
    "id": "psQ8_w-9gqpE"
   },
   "outputs": [],
   "source": [
    "def effect_size(X, Y, A, B, cossims):\n",
    "    X = list(X)\n",
    "    Y = list(Y)\n",
    "    A = list(A)\n",
    "    B = list(B)\n",
    "\n",
    "    numerator = mean_s_wAB(X, A, B, cossims=cossims) - mean_s_wAB(Y, A, B, cossims=cossims)\n",
    "    denominator = stdev_s_wAB(X + Y, A, B, cossims=cossims)\n",
    "    return numerator / denominator"
   ]
  },
  {
   "cell_type": "code",
   "execution_count": 19,
   "metadata": {
    "id": "qZCPltJdNNeP"
   },
   "outputs": [],
   "source": [
    "def convert_keys_to_ints(X, Y):\n",
    "    return (\n",
    "        dict((i, v) for (i, (k, v)) in enumerate(X.items())),\n",
    "        dict((i + len(X), v) for (i, (k, v)) in enumerate(Y.items())),\n",
    "    )"
   ]
  },
  {
   "cell_type": "code",
   "execution_count": 20,
   "metadata": {
    "id": "ePktHsGKNUOW"
   },
   "outputs": [],
   "source": [
    "def run_test(encs, n_samples, parametric=False, suppress_printables = False):\n",
    "    X, Y = encs[\"targ1\"][\"encs\"], encs[\"targ2\"][\"encs\"]\n",
    "    A, B = encs[\"attr1\"][\"encs\"], encs[\"attr2\"][\"encs\"]\n",
    "\n",
    "    (X, Y) = convert_keys_to_ints(X, Y)\n",
    "    (A, B) = convert_keys_to_ints(A, B)\n",
    "\n",
    "    XY = X.copy()\n",
    "    XY.update(Y)\n",
    "    AB = A.copy()\n",
    "    AB.update(B)\n",
    "\n",
    "    if suppress_printables == False:\n",
    "        print(\"Computing cosine similarities...\")\n",
    "    cossims = construct_cossim_lookup(XY, AB)\n",
    "\n",
    "    if suppress_printables == False:\n",
    "        print(f\"Null hypothesis: no difference between {encs['targ1']['category']} and {encs['targ2']['category']} in \\\n",
    "    association to attributes {encs['attr1']['category']} and {encs['attr2']['category']}\")\n",
    "        print(\"Computing pval...\")\n",
    "    pval = p_val_permutation_test(X, Y, A, B, n_samples, cossims=cossims, parametric=parametric, suppress_printables=suppress_printables)\n",
    "    print(f\"pval: {pval}\")\n",
    "\n",
    "    if suppress_printables == False:\n",
    "        print(\"computing effect size...\")\n",
    "    esize = effect_size(X, Y, A, B, cossims=cossims)\n",
    "    print(f\"Effect size: {esize}\")\n",
    "    return esize, pval"
   ]
  },
  {
   "cell_type": "code",
   "execution_count": null,
   "metadata": {
    "id": "r2CU1uAK7gYq"
   },
   "outputs": [],
   "source": [
    "X = {\"x\" + str(i): 2 * np.random.rand(10) - 1 for i in range(25)}\n",
    "Y = {\"y\" + str(i): 2 * np.random.rand(10) - 1 for i in range(25)}\n",
    "A = {\"a\" + str(i): 2 * np.random.rand(10) - 1 for i in range(25)}\n",
    "B = {\"b\" + str(i): 2 * np.random.rand(10) - 1 for i in range(25)}\n",
    "A = X\n",
    "B = Y\n",
    "print(f'X: {X}')\n",
    "print(f'Y: {Y}')\n",
    "(X, Y) = convert_keys_to_ints(X, Y)\n",
    "print(f'X: {X}')\n",
    "print(f'Y: {Y}')\n",
    "(A, B) = convert_keys_to_ints(A, B)\n",
    "\n",
    "XY = X.copy()\n",
    "XY.update(Y)\n",
    "AB = A.copy()\n",
    "AB.update(B)\n",
    "\n",
    "cossims = construct_cossim_lookup(XY, AB)\n",
    "print(\"computing pval...\")\n",
    "pval = p_val_permutation_test(X, Y, A, B, cossims=cossims, n_samples=10000)\n",
    "print(\"pval: %g\", pval)\n",
    "\n",
    "print(\"computing effect size...\")\n",
    "esize = effect_size(X, Y, A, B, cossims=cossims)\n",
    "print(f\"Effect size: {esize}\")"
   ]
  },
  {
   "cell_type": "markdown",
   "metadata": {
    "id": "pCQV91s_27ZX"
   },
   "source": [
    "Intended model loading"
   ]
  },
  {
   "cell_type": "code",
   "execution_count": null,
   "metadata": {
    "colab": {
     "base_uri": "https://localhost:8080/"
    },
    "id": "dPXwRc0m24LQ",
    "outputId": "e20631d3-48bd-4f00-d823-cdcaa8419483"
   },
   "outputs": [
    {
     "name": "stdout",
     "output_type": "stream",
     "text": [
      "Loading glove model...\n"
     ]
    }
   ],
   "source": [
    "MODEL_NAME = \"glove\"\n",
    "\n",
    "if MODEL_NAME == 'w2v':\n",
    "    print('Loading w2v model...')\n",
    "    model = Word2Vec.load(\"/content/w2v_512/w2v_512\")\n",
    "elif MODEL_NAME == 'glove':\n",
    "    print('Loading glove model...')\n",
    "    model = BengaliGlove()"
   ]
  },
  {
   "cell_type": "markdown",
   "metadata": {
    "id": "cBPo7RuF2q0M"
   },
   "source": [
    "WEAT on single data"
   ]
  },
  {
   "cell_type": "code",
   "execution_count": null,
   "metadata": {
    "id": "qSwhsBYNCwhn"
   },
   "outputs": [],
   "source": [
    "filename = '/content/weat_bn_data/weat8b.jsonl'\n",
    "data, targets, attributes = load_json(filename)\n",
    "\n",
    "et1, et2, ea1, ea2 = encode_data(model, data, MODEL_NAME, suppress_printables = False)\n",
    "add_encodings_to_dict(data, et1, et2, ea1, ea2, suppress_printables = False)\n",
    "save_encodings(data, filename)\n",
    "run_test(data, 10000, suppress_printables = False)\n",
    "\n",
    "print(f\"{targets[0]} vs {targets[1]} ({attributes[0]} / {attributes[1]})\")"
   ]
  },
  {
   "cell_type": "markdown",
   "metadata": {
    "id": "vnaY0MZL9kr5"
   },
   "source": [
    "Saved encoding loading and GloVe test re-running"
   ]
  },
  {
   "cell_type": "code",
   "execution_count": null,
   "metadata": {
    "id": "ZZNztPwA9fl6"
   },
   "outputs": [],
   "source": [
    "data_enc = json.load(open('/content/weat_bn_encoded_data/weat8b_enc.jsonl', 'r'))\n",
    "run_test(data, 10000, parametric = True, suppress_printables = False)"
   ]
  },
  {
   "cell_type": "markdown",
   "metadata": {
    "id": "qNufZXgr8oOu"
   },
   "source": [
    "WEAT on whole dataset"
   ]
  },
  {
   "cell_type": "code",
   "execution_count": null,
   "metadata": {
    "id": "eSzkdO5L8Ckb"
   },
   "outputs": [],
   "source": [
    "folder_path = '/content/weat_bn_data'\n",
    "files = os.listdir(folder_path)\n",
    "\n",
    "for file in files:\n",
    "    file_path = os.path.join(folder_path, file)\n",
    "    if os.path.isfile(file_path):\n",
    "        data, targets, attributes = load_json(file_path)\n",
    "        et1, et2, ea1, ea2 = encode_data(model, data, MODEL_NAME, suppress_printables = True)\n",
    "        add_encodings_to_dict(data, et1, et2, ea1, ea2, suppress_printables = True)\n",
    "\n",
    "        print(f\"{targets[0]} vs {targets[1]} ({attributes[0]} / {attributes[1]})\")\n",
    "        run_test(data, 10000, suppress_printables = True)\n",
    "        print()"
   ]
  },
  {
   "cell_type": "markdown",
   "metadata": {
    "id": "L7w3mYIc2vuH"
   },
   "source": [
    "### WEAT for BERT implementing"
   ]
  },
  {
   "cell_type": "code",
   "execution_count": 22,
   "metadata": {
    "id": "Cu92nhHvz9uT"
   },
   "outputs": [],
   "source": [
    "def get_word_vector_broken(sentence, word):\n",
    "  normalized_sent = normalize(sentence)\n",
    "  input_token = tokenizer(normalized_sent, return_tensors=\"pt\")\n",
    "  sent_list = sentence.split(' ')\n",
    "  idx = sent_list.index(word) + 1\n",
    "  with torch.no_grad():\n",
    "    outputs = model(**input_token)\n",
    "    print(outputs.hidden_states[-1][0][idx])\n",
    "    return outputs[1][-1][0].detach().cpu().numpy()[idx]"
   ]
  },
  {
   "cell_type": "code",
   "execution_count": null,
   "metadata": {
    "id": "mUg5qLs_0bZL"
   },
   "outputs": [],
   "source": [
    "sentence = \"ছেলেরা বিকেলে মাঠে ফুটবল খেলে।\"\n",
    "get_word_vector(sentence, 'খেলে')"
   ]
  },
  {
   "cell_type": "markdown",
   "metadata": {
    "id": "TwDBCCcS3sQ4"
   },
   "source": [
    "get_word_vector testing"
   ]
  },
  {
   "cell_type": "code",
   "execution_count": 23,
   "metadata": {
    "id": "bfYAWSWw72zT"
   },
   "outputs": [],
   "source": [
    "import re"
   ]
  },
  {
   "cell_type": "code",
   "execution_count": 24,
   "metadata": {
    "id": "zEp5Dhy_yLFp"
   },
   "outputs": [],
   "source": [
    "def get_word_vector_normal(sentence, word):\n",
    "\n",
    "    normalized_sent = normalize(sentence)\n",
    "    word = normalize(word)\n",
    "    input_token_mappings = tokenizer(normalized_sent, return_tensors=\"pt\", return_offsets_mapping = True)\n",
    "    input_token = tokenizer(normalized_sent, return_tensors=\"pt\")\n",
    "    decoded = tokenizer.decode(input_token['input_ids'][0])\n",
    "    sent_list = normalized_sent.split(' ')\n",
    "    if word in sent_list:\n",
    "        idx = sent_list.index(word) + 1\n",
    "    else:\n",
    "        pattern = r'\\b' + word + r'\\W*'\n",
    "        for i, w in enumerate(sent_list):\n",
    "            if re.search(pattern, w):\n",
    "                idx = i + 1\n",
    "    with torch.no_grad():\n",
    "        outputs = model(**input_token)\n",
    "        return outputs.hidden_states[-1][0].detach().cpu().numpy()[idx], input_token_mappings"
   ]
  },
  {
   "cell_type": "code",
   "execution_count": null,
   "metadata": {
    "id": "bEchJQkpyPwK"
   },
   "outputs": [],
   "source": [
    "sentence = \"এটি একটি কৃষ্ণচূড়া।\"\n",
    "print(get_word_vector_normal(sentence, 'কৃষ্ণচূড়া'))"
   ]
  },
  {
   "cell_type": "code",
   "execution_count": null,
   "metadata": {
    "colab": {
     "base_uri": "https://localhost:8080/"
    },
    "id": "3VsA-GJUUPk-",
    "outputId": "852043ce-e95e-4f2e-a8a0-0d47e4586447"
   },
   "outputs": [
    {
     "name": "stdout",
     "output_type": "stream",
     "text": [
      "tensor([ 0.1118,  0.3700,  0.7958,  ...,  0.4475,  1.1334, -0.2145])\n"
     ]
    },
    {
     "data": {
      "text/plain": [
       "(1024,)"
      ]
     },
     "execution_count": 37,
     "metadata": {},
     "output_type": "execute_result"
    }
   ],
   "source": [
    "sentence = \"বাগানে রজনীগন্ধা ফুল ফুটেছে।\"\n",
    "sentence2 = \"বাগানে গোলাপ ফুল ফুটেছে।\"\n",
    "vector1 = get_word_vector_broken(sentence, 'রজনীগন্ধা')\n",
    "vector2, _ = get_word_vector_normal(sentence2, 'গোলাপ')\n",
    "vector2.shape"
   ]
  },
  {
   "cell_type": "code",
   "execution_count": 25,
   "metadata": {
    "id": "Un23DUIJ8Pt_"
   },
   "outputs": [],
   "source": [
    "import json"
   ]
  },
  {
   "cell_type": "code",
   "execution_count": 26,
   "metadata": {
    "id": "A5AB7dOY7kPq"
   },
   "outputs": [],
   "source": [
    "def load_json_templates(sent_file):\n",
    "    print(f\"Loading {sent_file}...\")\n",
    "    all_data = json.load(open(sent_file, 'r'))\n",
    "    data = {}\n",
    "    targets = [ all_data['targ1']['category'], all_data['targ2']['category'] ]\n",
    "    attributes = [all_data['attr1']['category'], all_data['attr2']['category']]\n",
    "    for k, v in all_data.items():\n",
    "        templates = v[\"templates\"]\n",
    "        data[k] = templates\n",
    "        v[\"templates\"] = templates\n",
    "\n",
    "    return all_data, targets, attributes"
   ]
  },
  {
   "cell_type": "code",
   "execution_count": null,
   "metadata": {
    "id": "d39j94-G7vy3"
   },
   "outputs": [],
   "source": [
    "folder_path = '/content/seat_bn_data/templates'\n",
    "files = os.listdir(folder_path)\n",
    "all_seat_template_data = []\n",
    "files.sort()\n",
    "for file in files:\n",
    "    file_path = os.path.join(folder_path, file)\n",
    "    if os.path.isfile(file_path):\n",
    "        seat_template_data, targets, attributes = load_json_templates(file_path)\n",
    "        all_seat_template_data.append(seat_template_data)\n",
    "        print(f\"{seat_template_data['targ1']['category']} has {len(seat_template_data['targ1']['templates'])} sentences\")\n",
    "        print(f\"{seat_template_data['targ2']['category']} has {len(seat_template_data['targ2']['templates'])} sentences\")\n",
    "        print(f\"{seat_template_data['attr1']['category']} has {len(seat_template_data['attr1']['templates'])} sentences\")\n",
    "        print(f\"{seat_template_data['attr2']['category']} has {len(seat_template_data['attr2']['templates'])} sentences\")"
   ]
  },
  {
   "cell_type": "code",
   "execution_count": null,
   "metadata": {
    "id": "GeeamG_M_T30"
   },
   "outputs": [],
   "source": [
    "weat_folder_path = '/content/weat_bn_data'\n",
    "weat_files = os.listdir(weat_folder_path)\n",
    "weat_files.sort()\n",
    "all_weat_data = []\n",
    "\n",
    "for file in weat_files:\n",
    "    weat_file_path = os.path.join(weat_folder_path, file)\n",
    "    if os.path.isfile(weat_file_path):\n",
    "        weat_data, targets, attributes = load_json(weat_file_path)\n",
    "        all_weat_data.append(weat_data)\n",
    "        print(f\"{weat_data['targ1']['category']} has {len(weat_data['targ1']['examples'])} words\")\n",
    "        print(f\"{weat_data['targ2']['category']} has {len(weat_data['targ2']['examples'])} words\")\n",
    "        print(f\"{weat_data['attr1']['category']} has {len(weat_data['attr1']['examples'])} words\")\n",
    "        print(f\"{weat_data['attr2']['category']} has {len(weat_data['attr2']['examples'])} words\")"
   ]
  },
  {
   "cell_type": "code",
   "execution_count": null,
   "metadata": {
    "id": "uyoMfXzkBSs5"
   },
   "outputs": [],
   "source": [
    "for i, data in enumerate(all_weat_data):\n",
    "    data['targ1']['count'] = len(all_seat_template_data[i]['targ1']['templates'])\n",
    "    data['targ2']['count'] = len(all_seat_template_data[i]['targ2']['templates'])\n",
    "    data['attr1']['count'] = len(all_seat_template_data[i]['attr1']['templates'])\n",
    "    data['attr2']['count'] = len(all_seat_template_data[i]['attr2']['templates'])"
   ]
  },
  {
   "cell_type": "code",
   "execution_count": null,
   "metadata": {
    "id": "v0-MnxQ4DKQL"
   },
   "outputs": [],
   "source": [
    "all_seat_data[0]"
   ]
  },
  {
   "cell_type": "code",
   "execution_count": null,
   "metadata": {
    "id": "WHxoztytCqlB"
   },
   "outputs": [],
   "source": [
    "folder_path = '/content/seat_bn_data/data'\n",
    "files = os.listdir(folder_path)\n",
    "all_seat_data = []\n",
    "files.sort()\n",
    "for file in files:\n",
    "    file_path = os.path.join(folder_path, file)\n",
    "    if os.path.isfile(file_path):\n",
    "        seat_data, targets, attributes = load_json(file_path)\n",
    "        all_seat_data.append(seat_data)\n",
    "        print(f\"{seat_data['targ1']['category']} has {len(seat_data['targ1']['examples'])} sentences\")\n",
    "        print(f\"{seat_data['targ2']['category']} has {len(seat_data['targ2']['examples'])} sentences\")\n",
    "        print(f\"{seat_data['attr1']['category']} has {len(seat_data['attr1']['examples'])} sentences\")\n",
    "        print(f\"{seat_data['attr2']['category']} has {len(seat_data['attr2']['examples'])} sentences\")"
   ]
  },
  {
   "cell_type": "code",
   "execution_count": null,
   "metadata": {
    "id": "MzKEYtMeDIaV"
   },
   "outputs": [],
   "source": [
    "for i, seat_data in enumerate(all_seat_data):\n",
    "    seat_data['targ1']['words'] = all_weat_data[i]['targ1']['examples']\n",
    "    seat_data['targ1']['count'] = all_weat_data[i]['targ1']['count']\n",
    "\n",
    "    seat_data['targ2']['words'] = all_weat_data[i]['targ2']['examples']\n",
    "    seat_data['targ2']['count'] = all_weat_data[i]['targ2']['count']\n",
    "\n",
    "    seat_data['attr1']['words'] = all_weat_data[i]['attr1']['examples']\n",
    "    seat_data['attr1']['count'] = all_weat_data[i]['attr1']['count']\n",
    "\n",
    "    seat_data['attr2']['words'] = all_weat_data[i]['attr2']['examples']\n",
    "    seat_data['attr2']['count'] = all_weat_data[i]['attr2']['count']"
   ]
  },
  {
   "cell_type": "markdown",
   "metadata": {
    "id": "YNZ5csqHKa3P"
   },
   "source": [
    "Sanity checking"
   ]
  },
  {
   "cell_type": "code",
   "execution_count": null,
   "metadata": {
    "id": "F8LvIOzlKaM0"
   },
   "outputs": [],
   "source": [
    "for i, seat_data in enumerate(all_seat_data):\n",
    "    if len(seat_data['targ1']['words'])*seat_data['targ1']['count'] != len(seat_data['targ1']['examples']):\n",
    "        print(\"Issue\")\n",
    "    if len(seat_data['targ2']['words'])*seat_data['targ2']['count'] != len(seat_data['targ2']['examples']):\n",
    "        print(\"Issue\")\n",
    "    if len(seat_data['attr1']['words'])*seat_data['attr1']['count'] != len(seat_data['attr1']['examples']):\n",
    "        print(\"Issue\")\n",
    "    if len(seat_data['attr2']['words'])*seat_data['attr2']['count'] != len(seat_data['attr2']['examples']):\n",
    "        print(\"Issue\")"
   ]
  },
  {
   "cell_type": "markdown",
   "metadata": {
    "id": "cZ7HkNflShe2"
   },
   "source": [
    "SEAT on single file"
   ]
  },
  {
   "cell_type": "code",
   "execution_count": null,
   "metadata": {
    "id": "BkvSeLb_KRO6"
   },
   "outputs": [],
   "source": [
    "MODEL_NAME = 'bert'\n",
    "\n",
    "et1, et2, ea1, ea2 = encode_data(model, all_seat_data[0], MODEL_NAME, suppress_printables = False)\n",
    "add_encodings_to_dict(all_seat_data[0], et1, et2, ea1, ea2, suppress_printables = False)\n",
    "run_test(all_seat_data[0], 10000, suppress_printables = False)"
   ]
  },
  {
   "cell_type": "markdown",
   "metadata": {
    "id": "fnW0GwO0W6K7"
   },
   "source": [
    "SEAT on whole dataset"
   ]
  },
  {
   "cell_type": "code",
   "execution_count": null,
   "metadata": {
    "id": "B3yQyWXHW7uA"
   },
   "outputs": [],
   "source": [
    "MODEL_NAME = 'bert'\n",
    "for seat_data in all_seat_data:\n",
    "    et1, et2, ea1, ea2 = encode_data(model, seat_data, MODEL_NAME, suppress_printables = False)\n",
    "    add_encodings_to_dict(seat_data, et1, et2, ea1, ea2, suppress_printables = False)\n",
    "    run_test(seat_data, 10000, suppress_printables = False)\n",
    "    print(f\"{seat_data['targ1']['category']} vs {seat_data['targ2']['category']} ({seat_data['attr1']['category']} / {seat_data['attr2']['category']})\")"
   ]
  }
 ],
 "metadata": {
  "colab": {
   "gpuType": "T4",
   "provenance": []
  },
  "kernelspec": {
   "display_name": "Python 3",
   "name": "python3"
  },
  "language_info": {
   "name": "python"
  },
  "widgets": {
   "application/vnd.jupyter.widget-state+json": {
    "00de10a6938a4ac7837329b81ffe70aa": {
     "model_module": "@jupyter-widgets/base",
     "model_module_version": "1.2.0",
     "model_name": "LayoutModel",
     "state": {
      "_model_module": "@jupyter-widgets/base",
      "_model_module_version": "1.2.0",
      "_model_name": "LayoutModel",
      "_view_count": null,
      "_view_module": "@jupyter-widgets/base",
      "_view_module_version": "1.2.0",
      "_view_name": "LayoutView",
      "align_content": null,
      "align_items": null,
      "align_self": null,
      "border": null,
      "bottom": null,
      "display": null,
      "flex": null,
      "flex_flow": null,
      "grid_area": null,
      "grid_auto_columns": null,
      "grid_auto_flow": null,
      "grid_auto_rows": null,
      "grid_column": null,
      "grid_gap": null,
      "grid_row": null,
      "grid_template_areas": null,
      "grid_template_columns": null,
      "grid_template_rows": null,
      "height": null,
      "justify_content": null,
      "justify_items": null,
      "left": null,
      "margin": null,
      "max_height": null,
      "max_width": null,
      "min_height": null,
      "min_width": null,
      "object_fit": null,
      "object_position": null,
      "order": null,
      "overflow": null,
      "overflow_x": null,
      "overflow_y": null,
      "padding": null,
      "right": null,
      "top": null,
      "visibility": null,
      "width": null
     }
    },
    "1ca2f702caa447c597983b5b2bab3742": {
     "model_module": "@jupyter-widgets/base",
     "model_module_version": "1.2.0",
     "model_name": "LayoutModel",
     "state": {
      "_model_module": "@jupyter-widgets/base",
      "_model_module_version": "1.2.0",
      "_model_name": "LayoutModel",
      "_view_count": null,
      "_view_module": "@jupyter-widgets/base",
      "_view_module_version": "1.2.0",
      "_view_name": "LayoutView",
      "align_content": null,
      "align_items": null,
      "align_self": null,
      "border": null,
      "bottom": null,
      "display": null,
      "flex": null,
      "flex_flow": null,
      "grid_area": null,
      "grid_auto_columns": null,
      "grid_auto_flow": null,
      "grid_auto_rows": null,
      "grid_column": null,
      "grid_gap": null,
      "grid_row": null,
      "grid_template_areas": null,
      "grid_template_columns": null,
      "grid_template_rows": null,
      "height": null,
      "justify_content": null,
      "justify_items": null,
      "left": null,
      "margin": null,
      "max_height": null,
      "max_width": null,
      "min_height": null,
      "min_width": null,
      "object_fit": null,
      "object_position": null,
      "order": null,
      "overflow": null,
      "overflow_x": null,
      "overflow_y": null,
      "padding": null,
      "right": null,
      "top": null,
      "visibility": null,
      "width": null
     }
    },
    "1fa304d5ee6e4ba0b041107003af2234": {
     "model_module": "@jupyter-widgets/controls",
     "model_module_version": "1.5.0",
     "model_name": "ProgressStyleModel",
     "state": {
      "_model_module": "@jupyter-widgets/controls",
      "_model_module_version": "1.5.0",
      "_model_name": "ProgressStyleModel",
      "_view_count": null,
      "_view_module": "@jupyter-widgets/base",
      "_view_module_version": "1.2.0",
      "_view_name": "StyleView",
      "bar_color": null,
      "description_width": ""
     }
    },
    "2695c1fe9638411fa0353417cfeab289": {
     "model_module": "@jupyter-widgets/controls",
     "model_module_version": "1.5.0",
     "model_name": "DescriptionStyleModel",
     "state": {
      "_model_module": "@jupyter-widgets/controls",
      "_model_module_version": "1.5.0",
      "_model_name": "DescriptionStyleModel",
      "_view_count": null,
      "_view_module": "@jupyter-widgets/base",
      "_view_module_version": "1.2.0",
      "_view_name": "StyleView",
      "description_width": ""
     }
    },
    "27d7f6d4fea349b492814d032986a3a1": {
     "model_module": "@jupyter-widgets/base",
     "model_module_version": "1.2.0",
     "model_name": "LayoutModel",
     "state": {
      "_model_module": "@jupyter-widgets/base",
      "_model_module_version": "1.2.0",
      "_model_name": "LayoutModel",
      "_view_count": null,
      "_view_module": "@jupyter-widgets/base",
      "_view_module_version": "1.2.0",
      "_view_name": "LayoutView",
      "align_content": null,
      "align_items": null,
      "align_self": null,
      "border": null,
      "bottom": null,
      "display": null,
      "flex": null,
      "flex_flow": null,
      "grid_area": null,
      "grid_auto_columns": null,
      "grid_auto_flow": null,
      "grid_auto_rows": null,
      "grid_column": null,
      "grid_gap": null,
      "grid_row": null,
      "grid_template_areas": null,
      "grid_template_columns": null,
      "grid_template_rows": null,
      "height": null,
      "justify_content": null,
      "justify_items": null,
      "left": null,
      "margin": null,
      "max_height": null,
      "max_width": null,
      "min_height": null,
      "min_width": null,
      "object_fit": null,
      "object_position": null,
      "order": null,
      "overflow": null,
      "overflow_x": null,
      "overflow_y": null,
      "padding": null,
      "right": null,
      "top": null,
      "visibility": null,
      "width": null
     }
    },
    "2d0ff49d17374091b3dd818953c1634e": {
     "model_module": "@jupyter-widgets/controls",
     "model_module_version": "1.5.0",
     "model_name": "HTMLModel",
     "state": {
      "_dom_classes": [],
      "_model_module": "@jupyter-widgets/controls",
      "_model_module_version": "1.5.0",
      "_model_name": "HTMLModel",
      "_view_count": null,
      "_view_module": "@jupyter-widgets/controls",
      "_view_module_version": "1.5.0",
      "_view_name": "HTMLView",
      "description": "",
      "description_tooltip": null,
      "layout": "IPY_MODEL_ce3f87f3592b486fa41cd4f917e52408",
      "placeholder": "​",
      "style": "IPY_MODEL_739fea3f0d37486b8618b18767c1b8d1",
      "value": "tokenizer_config.json: 100%"
     }
    },
    "2ed278099b6d47a2ad0b039df99de67f": {
     "model_module": "@jupyter-widgets/controls",
     "model_module_version": "1.5.0",
     "model_name": "HBoxModel",
     "state": {
      "_dom_classes": [],
      "_model_module": "@jupyter-widgets/controls",
      "_model_module_version": "1.5.0",
      "_model_name": "HBoxModel",
      "_view_count": null,
      "_view_module": "@jupyter-widgets/controls",
      "_view_module_version": "1.5.0",
      "_view_name": "HBoxView",
      "box_style": "",
      "children": [
       "IPY_MODEL_2d0ff49d17374091b3dd818953c1634e",
       "IPY_MODEL_2f72485e6c8b4ad0b79911fb666d385d",
       "IPY_MODEL_9cbe3f1623c7460c809e8c5665629258"
      ],
      "layout": "IPY_MODEL_9a6198192e714f86ba8fc66fd97fc7b4"
     }
    },
    "2f72485e6c8b4ad0b79911fb666d385d": {
     "model_module": "@jupyter-widgets/controls",
     "model_module_version": "1.5.0",
     "model_name": "FloatProgressModel",
     "state": {
      "_dom_classes": [],
      "_model_module": "@jupyter-widgets/controls",
      "_model_module_version": "1.5.0",
      "_model_name": "FloatProgressModel",
      "_view_count": null,
      "_view_module": "@jupyter-widgets/controls",
      "_view_module_version": "1.5.0",
      "_view_name": "ProgressView",
      "bar_style": "success",
      "description": "",
      "description_tooltip": null,
      "layout": "IPY_MODEL_34b348d181074e06bb79f990a7b1426d",
      "max": 119,
      "min": 0,
      "orientation": "horizontal",
      "style": "IPY_MODEL_de4f4566200a48418a22ca2537c505a9",
      "value": 119
     }
    },
    "2fdb0d5a458d41e08ef214e77b790115": {
     "model_module": "@jupyter-widgets/controls",
     "model_module_version": "1.5.0",
     "model_name": "HTMLModel",
     "state": {
      "_dom_classes": [],
      "_model_module": "@jupyter-widgets/controls",
      "_model_module_version": "1.5.0",
      "_model_name": "HTMLModel",
      "_view_count": null,
      "_view_module": "@jupyter-widgets/controls",
      "_view_module_version": "1.5.0",
      "_view_name": "HTMLView",
      "description": "",
      "description_tooltip": null,
      "layout": "IPY_MODEL_d510b2f8b8d44553911499bdbb1d3261",
      "placeholder": "​",
      "style": "IPY_MODEL_b741a7d6ca584d589a955016c562610c",
      "value": "pytorch_model.bin: 100%"
     }
    },
    "329b11706c484a7f801460d7299112b6": {
     "model_module": "@jupyter-widgets/controls",
     "model_module_version": "1.5.0",
     "model_name": "HBoxModel",
     "state": {
      "_dom_classes": [],
      "_model_module": "@jupyter-widgets/controls",
      "_model_module_version": "1.5.0",
      "_model_name": "HBoxModel",
      "_view_count": null,
      "_view_module": "@jupyter-widgets/controls",
      "_view_module_version": "1.5.0",
      "_view_name": "HBoxView",
      "box_style": "",
      "children": [
       "IPY_MODEL_7e702e7c2d73482fb3135a908633565d",
       "IPY_MODEL_a2d7e9dd76d949a2a9b8e053ba9c0ac2",
       "IPY_MODEL_84b7bc21e6124f8a897e5ce504ebc3c9"
      ],
      "layout": "IPY_MODEL_7c146cd0d06f41518f413f4a46239543"
     }
    },
    "33dffb521d864a46b2e780596a61ed82": {
     "model_module": "@jupyter-widgets/controls",
     "model_module_version": "1.5.0",
     "model_name": "DescriptionStyleModel",
     "state": {
      "_model_module": "@jupyter-widgets/controls",
      "_model_module_version": "1.5.0",
      "_model_name": "DescriptionStyleModel",
      "_view_count": null,
      "_view_module": "@jupyter-widgets/base",
      "_view_module_version": "1.2.0",
      "_view_name": "StyleView",
      "description_width": ""
     }
    },
    "34b348d181074e06bb79f990a7b1426d": {
     "model_module": "@jupyter-widgets/base",
     "model_module_version": "1.2.0",
     "model_name": "LayoutModel",
     "state": {
      "_model_module": "@jupyter-widgets/base",
      "_model_module_version": "1.2.0",
      "_model_name": "LayoutModel",
      "_view_count": null,
      "_view_module": "@jupyter-widgets/base",
      "_view_module_version": "1.2.0",
      "_view_name": "LayoutView",
      "align_content": null,
      "align_items": null,
      "align_self": null,
      "border": null,
      "bottom": null,
      "display": null,
      "flex": null,
      "flex_flow": null,
      "grid_area": null,
      "grid_auto_columns": null,
      "grid_auto_flow": null,
      "grid_auto_rows": null,
      "grid_column": null,
      "grid_gap": null,
      "grid_row": null,
      "grid_template_areas": null,
      "grid_template_columns": null,
      "grid_template_rows": null,
      "height": null,
      "justify_content": null,
      "justify_items": null,
      "left": null,
      "margin": null,
      "max_height": null,
      "max_width": null,
      "min_height": null,
      "min_width": null,
      "object_fit": null,
      "object_position": null,
      "order": null,
      "overflow": null,
      "overflow_x": null,
      "overflow_y": null,
      "padding": null,
      "right": null,
      "top": null,
      "visibility": null,
      "width": null
     }
    },
    "401f226c08e4436c81f745292cdc195e": {
     "model_module": "@jupyter-widgets/base",
     "model_module_version": "1.2.0",
     "model_name": "LayoutModel",
     "state": {
      "_model_module": "@jupyter-widgets/base",
      "_model_module_version": "1.2.0",
      "_model_name": "LayoutModel",
      "_view_count": null,
      "_view_module": "@jupyter-widgets/base",
      "_view_module_version": "1.2.0",
      "_view_name": "LayoutView",
      "align_content": null,
      "align_items": null,
      "align_self": null,
      "border": null,
      "bottom": null,
      "display": null,
      "flex": null,
      "flex_flow": null,
      "grid_area": null,
      "grid_auto_columns": null,
      "grid_auto_flow": null,
      "grid_auto_rows": null,
      "grid_column": null,
      "grid_gap": null,
      "grid_row": null,
      "grid_template_areas": null,
      "grid_template_columns": null,
      "grid_template_rows": null,
      "height": null,
      "justify_content": null,
      "justify_items": null,
      "left": null,
      "margin": null,
      "max_height": null,
      "max_width": null,
      "min_height": null,
      "min_width": null,
      "object_fit": null,
      "object_position": null,
      "order": null,
      "overflow": null,
      "overflow_x": null,
      "overflow_y": null,
      "padding": null,
      "right": null,
      "top": null,
      "visibility": null,
      "width": null
     }
    },
    "40f851435c88435bbf3bbb4248e1268c": {
     "model_module": "@jupyter-widgets/base",
     "model_module_version": "1.2.0",
     "model_name": "LayoutModel",
     "state": {
      "_model_module": "@jupyter-widgets/base",
      "_model_module_version": "1.2.0",
      "_model_name": "LayoutModel",
      "_view_count": null,
      "_view_module": "@jupyter-widgets/base",
      "_view_module_version": "1.2.0",
      "_view_name": "LayoutView",
      "align_content": null,
      "align_items": null,
      "align_self": null,
      "border": null,
      "bottom": null,
      "display": null,
      "flex": null,
      "flex_flow": null,
      "grid_area": null,
      "grid_auto_columns": null,
      "grid_auto_flow": null,
      "grid_auto_rows": null,
      "grid_column": null,
      "grid_gap": null,
      "grid_row": null,
      "grid_template_areas": null,
      "grid_template_columns": null,
      "grid_template_rows": null,
      "height": null,
      "justify_content": null,
      "justify_items": null,
      "left": null,
      "margin": null,
      "max_height": null,
      "max_width": null,
      "min_height": null,
      "min_width": null,
      "object_fit": null,
      "object_position": null,
      "order": null,
      "overflow": null,
      "overflow_x": null,
      "overflow_y": null,
      "padding": null,
      "right": null,
      "top": null,
      "visibility": null,
      "width": null
     }
    },
    "4a7b11ef873f46c1b5384f55586babcb": {
     "model_module": "@jupyter-widgets/controls",
     "model_module_version": "1.5.0",
     "model_name": "ProgressStyleModel",
     "state": {
      "_model_module": "@jupyter-widgets/controls",
      "_model_module_version": "1.5.0",
      "_model_name": "ProgressStyleModel",
      "_view_count": null,
      "_view_module": "@jupyter-widgets/base",
      "_view_module_version": "1.2.0",
      "_view_name": "StyleView",
      "bar_color": null,
      "description_width": ""
     }
    },
    "4eba335d47394581b59c961292878d7b": {
     "model_module": "@jupyter-widgets/controls",
     "model_module_version": "1.5.0",
     "model_name": "ProgressStyleModel",
     "state": {
      "_model_module": "@jupyter-widgets/controls",
      "_model_module_version": "1.5.0",
      "_model_name": "ProgressStyleModel",
      "_view_count": null,
      "_view_module": "@jupyter-widgets/base",
      "_view_module_version": "1.2.0",
      "_view_name": "StyleView",
      "bar_color": null,
      "description_width": ""
     }
    },
    "52d6a888db954509a4f8ebedf7619f52": {
     "model_module": "@jupyter-widgets/base",
     "model_module_version": "1.2.0",
     "model_name": "LayoutModel",
     "state": {
      "_model_module": "@jupyter-widgets/base",
      "_model_module_version": "1.2.0",
      "_model_name": "LayoutModel",
      "_view_count": null,
      "_view_module": "@jupyter-widgets/base",
      "_view_module_version": "1.2.0",
      "_view_name": "LayoutView",
      "align_content": null,
      "align_items": null,
      "align_self": null,
      "border": null,
      "bottom": null,
      "display": null,
      "flex": null,
      "flex_flow": null,
      "grid_area": null,
      "grid_auto_columns": null,
      "grid_auto_flow": null,
      "grid_auto_rows": null,
      "grid_column": null,
      "grid_gap": null,
      "grid_row": null,
      "grid_template_areas": null,
      "grid_template_columns": null,
      "grid_template_rows": null,
      "height": null,
      "justify_content": null,
      "justify_items": null,
      "left": null,
      "margin": null,
      "max_height": null,
      "max_width": null,
      "min_height": null,
      "min_width": null,
      "object_fit": null,
      "object_position": null,
      "order": null,
      "overflow": null,
      "overflow_x": null,
      "overflow_y": null,
      "padding": null,
      "right": null,
      "top": null,
      "visibility": null,
      "width": null
     }
    },
    "5682419d7e23442794a309e7f9195a73": {
     "model_module": "@jupyter-widgets/controls",
     "model_module_version": "1.5.0",
     "model_name": "FloatProgressModel",
     "state": {
      "_dom_classes": [],
      "_model_module": "@jupyter-widgets/controls",
      "_model_module_version": "1.5.0",
      "_model_name": "FloatProgressModel",
      "_view_count": null,
      "_view_module": "@jupyter-widgets/controls",
      "_view_module_version": "1.5.0",
      "_view_name": "ProgressView",
      "bar_style": "success",
      "description": "",
      "description_tooltip": null,
      "layout": "IPY_MODEL_a237d65432d6484c8192b07c862ec131",
      "max": 1346790431,
      "min": 0,
      "orientation": "horizontal",
      "style": "IPY_MODEL_4a7b11ef873f46c1b5384f55586babcb",
      "value": 1346790431
     }
    },
    "5a3b39483d624d4b9d6e82986a05fb12": {
     "model_module": "@jupyter-widgets/base",
     "model_module_version": "1.2.0",
     "model_name": "LayoutModel",
     "state": {
      "_model_module": "@jupyter-widgets/base",
      "_model_module_version": "1.2.0",
      "_model_name": "LayoutModel",
      "_view_count": null,
      "_view_module": "@jupyter-widgets/base",
      "_view_module_version": "1.2.0",
      "_view_name": "LayoutView",
      "align_content": null,
      "align_items": null,
      "align_self": null,
      "border": null,
      "bottom": null,
      "display": null,
      "flex": null,
      "flex_flow": null,
      "grid_area": null,
      "grid_auto_columns": null,
      "grid_auto_flow": null,
      "grid_auto_rows": null,
      "grid_column": null,
      "grid_gap": null,
      "grid_row": null,
      "grid_template_areas": null,
      "grid_template_columns": null,
      "grid_template_rows": null,
      "height": null,
      "justify_content": null,
      "justify_items": null,
      "left": null,
      "margin": null,
      "max_height": null,
      "max_width": null,
      "min_height": null,
      "min_width": null,
      "object_fit": null,
      "object_position": null,
      "order": null,
      "overflow": null,
      "overflow_x": null,
      "overflow_y": null,
      "padding": null,
      "right": null,
      "top": null,
      "visibility": null,
      "width": null
     }
    },
    "627dd8b1fb95471bb9306aca32754ff6": {
     "model_module": "@jupyter-widgets/controls",
     "model_module_version": "1.5.0",
     "model_name": "HBoxModel",
     "state": {
      "_dom_classes": [],
      "_model_module": "@jupyter-widgets/controls",
      "_model_module_version": "1.5.0",
      "_model_name": "HBoxModel",
      "_view_count": null,
      "_view_module": "@jupyter-widgets/controls",
      "_view_module_version": "1.5.0",
      "_view_name": "HBoxView",
      "box_style": "",
      "children": [
       "IPY_MODEL_2fdb0d5a458d41e08ef214e77b790115",
       "IPY_MODEL_5682419d7e23442794a309e7f9195a73",
       "IPY_MODEL_647f076046f4496c89acfa1e16e08061"
      ],
      "layout": "IPY_MODEL_00de10a6938a4ac7837329b81ffe70aa"
     }
    },
    "647f076046f4496c89acfa1e16e08061": {
     "model_module": "@jupyter-widgets/controls",
     "model_module_version": "1.5.0",
     "model_name": "HTMLModel",
     "state": {
      "_dom_classes": [],
      "_model_module": "@jupyter-widgets/controls",
      "_model_module_version": "1.5.0",
      "_model_name": "HTMLModel",
      "_view_count": null,
      "_view_module": "@jupyter-widgets/controls",
      "_view_module_version": "1.5.0",
      "_view_name": "HTMLView",
      "description": "",
      "description_tooltip": null,
      "layout": "IPY_MODEL_bb17c7582c804309903d385636af738d",
      "placeholder": "​",
      "style": "IPY_MODEL_cde20070c60643acb212c7da1fb28c73",
      "value": " 1.35G/1.35G [00:26&lt;00:00, 65.9MB/s]"
     }
    },
    "6817c8edc2794d9d859d5fe67ca4e7e4": {
     "model_module": "@jupyter-widgets/controls",
     "model_module_version": "1.5.0",
     "model_name": "DescriptionStyleModel",
     "state": {
      "_model_module": "@jupyter-widgets/controls",
      "_model_module_version": "1.5.0",
      "_model_name": "DescriptionStyleModel",
      "_view_count": null,
      "_view_module": "@jupyter-widgets/base",
      "_view_module_version": "1.2.0",
      "_view_name": "StyleView",
      "description_width": ""
     }
    },
    "6d5f06e8d9ac4e178e3b188cf72eec83": {
     "model_module": "@jupyter-widgets/base",
     "model_module_version": "1.2.0",
     "model_name": "LayoutModel",
     "state": {
      "_model_module": "@jupyter-widgets/base",
      "_model_module_version": "1.2.0",
      "_model_name": "LayoutModel",
      "_view_count": null,
      "_view_module": "@jupyter-widgets/base",
      "_view_module_version": "1.2.0",
      "_view_name": "LayoutView",
      "align_content": null,
      "align_items": null,
      "align_self": null,
      "border": null,
      "bottom": null,
      "display": null,
      "flex": null,
      "flex_flow": null,
      "grid_area": null,
      "grid_auto_columns": null,
      "grid_auto_flow": null,
      "grid_auto_rows": null,
      "grid_column": null,
      "grid_gap": null,
      "grid_row": null,
      "grid_template_areas": null,
      "grid_template_columns": null,
      "grid_template_rows": null,
      "height": null,
      "justify_content": null,
      "justify_items": null,
      "left": null,
      "margin": null,
      "max_height": null,
      "max_width": null,
      "min_height": null,
      "min_width": null,
      "object_fit": null,
      "object_position": null,
      "order": null,
      "overflow": null,
      "overflow_x": null,
      "overflow_y": null,
      "padding": null,
      "right": null,
      "top": null,
      "visibility": null,
      "width": null
     }
    },
    "739fea3f0d37486b8618b18767c1b8d1": {
     "model_module": "@jupyter-widgets/controls",
     "model_module_version": "1.5.0",
     "model_name": "DescriptionStyleModel",
     "state": {
      "_model_module": "@jupyter-widgets/controls",
      "_model_module_version": "1.5.0",
      "_model_name": "DescriptionStyleModel",
      "_view_count": null,
      "_view_module": "@jupyter-widgets/base",
      "_view_module_version": "1.2.0",
      "_view_name": "StyleView",
      "description_width": ""
     }
    },
    "7980e87caac54eebbb8b170728b5214c": {
     "model_module": "@jupyter-widgets/base",
     "model_module_version": "1.2.0",
     "model_name": "LayoutModel",
     "state": {
      "_model_module": "@jupyter-widgets/base",
      "_model_module_version": "1.2.0",
      "_model_name": "LayoutModel",
      "_view_count": null,
      "_view_module": "@jupyter-widgets/base",
      "_view_module_version": "1.2.0",
      "_view_name": "LayoutView",
      "align_content": null,
      "align_items": null,
      "align_self": null,
      "border": null,
      "bottom": null,
      "display": null,
      "flex": null,
      "flex_flow": null,
      "grid_area": null,
      "grid_auto_columns": null,
      "grid_auto_flow": null,
      "grid_auto_rows": null,
      "grid_column": null,
      "grid_gap": null,
      "grid_row": null,
      "grid_template_areas": null,
      "grid_template_columns": null,
      "grid_template_rows": null,
      "height": null,
      "justify_content": null,
      "justify_items": null,
      "left": null,
      "margin": null,
      "max_height": null,
      "max_width": null,
      "min_height": null,
      "min_width": null,
      "object_fit": null,
      "object_position": null,
      "order": null,
      "overflow": null,
      "overflow_x": null,
      "overflow_y": null,
      "padding": null,
      "right": null,
      "top": null,
      "visibility": null,
      "width": null
     }
    },
    "7c146cd0d06f41518f413f4a46239543": {
     "model_module": "@jupyter-widgets/base",
     "model_module_version": "1.2.0",
     "model_name": "LayoutModel",
     "state": {
      "_model_module": "@jupyter-widgets/base",
      "_model_module_version": "1.2.0",
      "_model_name": "LayoutModel",
      "_view_count": null,
      "_view_module": "@jupyter-widgets/base",
      "_view_module_version": "1.2.0",
      "_view_name": "LayoutView",
      "align_content": null,
      "align_items": null,
      "align_self": null,
      "border": null,
      "bottom": null,
      "display": null,
      "flex": null,
      "flex_flow": null,
      "grid_area": null,
      "grid_auto_columns": null,
      "grid_auto_flow": null,
      "grid_auto_rows": null,
      "grid_column": null,
      "grid_gap": null,
      "grid_row": null,
      "grid_template_areas": null,
      "grid_template_columns": null,
      "grid_template_rows": null,
      "height": null,
      "justify_content": null,
      "justify_items": null,
      "left": null,
      "margin": null,
      "max_height": null,
      "max_width": null,
      "min_height": null,
      "min_width": null,
      "object_fit": null,
      "object_position": null,
      "order": null,
      "overflow": null,
      "overflow_x": null,
      "overflow_y": null,
      "padding": null,
      "right": null,
      "top": null,
      "visibility": null,
      "width": null
     }
    },
    "7e702e7c2d73482fb3135a908633565d": {
     "model_module": "@jupyter-widgets/controls",
     "model_module_version": "1.5.0",
     "model_name": "HTMLModel",
     "state": {
      "_dom_classes": [],
      "_model_module": "@jupyter-widgets/controls",
      "_model_module_version": "1.5.0",
      "_model_name": "HTMLModel",
      "_view_count": null,
      "_view_module": "@jupyter-widgets/controls",
      "_view_module_version": "1.5.0",
      "_view_name": "HTMLView",
      "description": "",
      "description_tooltip": null,
      "layout": "IPY_MODEL_5a3b39483d624d4b9d6e82986a05fb12",
      "placeholder": "​",
      "style": "IPY_MODEL_33dffb521d864a46b2e780596a61ed82",
      "value": "config.json: 100%"
     }
    },
    "84b7bc21e6124f8a897e5ce504ebc3c9": {
     "model_module": "@jupyter-widgets/controls",
     "model_module_version": "1.5.0",
     "model_name": "HTMLModel",
     "state": {
      "_dom_classes": [],
      "_model_module": "@jupyter-widgets/controls",
      "_model_module_version": "1.5.0",
      "_model_name": "HTMLModel",
      "_view_count": null,
      "_view_module": "@jupyter-widgets/controls",
      "_view_module_version": "1.5.0",
      "_view_name": "HTMLView",
      "description": "",
      "description_tooltip": null,
      "layout": "IPY_MODEL_db8b6c598a0d4a43b9b6095f84b4caee",
      "placeholder": "​",
      "style": "IPY_MODEL_ebc92812a0324b4cbad93a689b2a5c9a",
      "value": " 880/880 [00:00&lt;00:00, 70.7kB/s]"
     }
    },
    "881d48a4af74401d8b4bc9c35a22e7a8": {
     "model_module": "@jupyter-widgets/base",
     "model_module_version": "1.2.0",
     "model_name": "LayoutModel",
     "state": {
      "_model_module": "@jupyter-widgets/base",
      "_model_module_version": "1.2.0",
      "_model_name": "LayoutModel",
      "_view_count": null,
      "_view_module": "@jupyter-widgets/base",
      "_view_module_version": "1.2.0",
      "_view_name": "LayoutView",
      "align_content": null,
      "align_items": null,
      "align_self": null,
      "border": null,
      "bottom": null,
      "display": null,
      "flex": null,
      "flex_flow": null,
      "grid_area": null,
      "grid_auto_columns": null,
      "grid_auto_flow": null,
      "grid_auto_rows": null,
      "grid_column": null,
      "grid_gap": null,
      "grid_row": null,
      "grid_template_areas": null,
      "grid_template_columns": null,
      "grid_template_rows": null,
      "height": null,
      "justify_content": null,
      "justify_items": null,
      "left": null,
      "margin": null,
      "max_height": null,
      "max_width": null,
      "min_height": null,
      "min_width": null,
      "object_fit": null,
      "object_position": null,
      "order": null,
      "overflow": null,
      "overflow_x": null,
      "overflow_y": null,
      "padding": null,
      "right": null,
      "top": null,
      "visibility": null,
      "width": null
     }
    },
    "8cb4aa9a839d4bcc9d36bedbc5b0f05b": {
     "model_module": "@jupyter-widgets/controls",
     "model_module_version": "1.5.0",
     "model_name": "HBoxModel",
     "state": {
      "_dom_classes": [],
      "_model_module": "@jupyter-widgets/controls",
      "_model_module_version": "1.5.0",
      "_model_name": "HBoxModel",
      "_view_count": null,
      "_view_module": "@jupyter-widgets/controls",
      "_view_module_version": "1.5.0",
      "_view_name": "HBoxView",
      "box_style": "",
      "children": [
       "IPY_MODEL_8f2dee81e1f84746a23e0e6254623494",
       "IPY_MODEL_a396cba46dac498f8dae5f0b46f10cb9",
       "IPY_MODEL_8edd9fcca2744ea88fa88d9098209020"
      ],
      "layout": "IPY_MODEL_6d5f06e8d9ac4e178e3b188cf72eec83"
     }
    },
    "8edd9fcca2744ea88fa88d9098209020": {
     "model_module": "@jupyter-widgets/controls",
     "model_module_version": "1.5.0",
     "model_name": "HTMLModel",
     "state": {
      "_dom_classes": [],
      "_model_module": "@jupyter-widgets/controls",
      "_model_module_version": "1.5.0",
      "_model_name": "HTMLModel",
      "_view_count": null,
      "_view_module": "@jupyter-widgets/controls",
      "_view_module_version": "1.5.0",
      "_view_name": "HTMLView",
      "description": "",
      "description_tooltip": null,
      "layout": "IPY_MODEL_881d48a4af74401d8b4bc9c35a22e7a8",
      "placeholder": "​",
      "style": "IPY_MODEL_2695c1fe9638411fa0353417cfeab289",
      "value": " 528k/528k [00:00&lt;00:00, 3.89MB/s]"
     }
    },
    "8f2dee81e1f84746a23e0e6254623494": {
     "model_module": "@jupyter-widgets/controls",
     "model_module_version": "1.5.0",
     "model_name": "HTMLModel",
     "state": {
      "_dom_classes": [],
      "_model_module": "@jupyter-widgets/controls",
      "_model_module_version": "1.5.0",
      "_model_name": "HTMLModel",
      "_view_count": null,
      "_view_module": "@jupyter-widgets/controls",
      "_view_module_version": "1.5.0",
      "_view_name": "HTMLView",
      "description": "",
      "description_tooltip": null,
      "layout": "IPY_MODEL_e74a912b23e2445ebe6bd051f10356c2",
      "placeholder": "​",
      "style": "IPY_MODEL_ceb5315d8e0f4ab6a6a353852cc012da",
      "value": "vocab.txt: 100%"
     }
    },
    "9a6198192e714f86ba8fc66fd97fc7b4": {
     "model_module": "@jupyter-widgets/base",
     "model_module_version": "1.2.0",
     "model_name": "LayoutModel",
     "state": {
      "_model_module": "@jupyter-widgets/base",
      "_model_module_version": "1.2.0",
      "_model_name": "LayoutModel",
      "_view_count": null,
      "_view_module": "@jupyter-widgets/base",
      "_view_module_version": "1.2.0",
      "_view_name": "LayoutView",
      "align_content": null,
      "align_items": null,
      "align_self": null,
      "border": null,
      "bottom": null,
      "display": null,
      "flex": null,
      "flex_flow": null,
      "grid_area": null,
      "grid_auto_columns": null,
      "grid_auto_flow": null,
      "grid_auto_rows": null,
      "grid_column": null,
      "grid_gap": null,
      "grid_row": null,
      "grid_template_areas": null,
      "grid_template_columns": null,
      "grid_template_rows": null,
      "height": null,
      "justify_content": null,
      "justify_items": null,
      "left": null,
      "margin": null,
      "max_height": null,
      "max_width": null,
      "min_height": null,
      "min_width": null,
      "object_fit": null,
      "object_position": null,
      "order": null,
      "overflow": null,
      "overflow_x": null,
      "overflow_y": null,
      "padding": null,
      "right": null,
      "top": null,
      "visibility": null,
      "width": null
     }
    },
    "9cbe3f1623c7460c809e8c5665629258": {
     "model_module": "@jupyter-widgets/controls",
     "model_module_version": "1.5.0",
     "model_name": "HTMLModel",
     "state": {
      "_dom_classes": [],
      "_model_module": "@jupyter-widgets/controls",
      "_model_module_version": "1.5.0",
      "_model_name": "HTMLModel",
      "_view_count": null,
      "_view_module": "@jupyter-widgets/controls",
      "_view_module_version": "1.5.0",
      "_view_name": "HTMLView",
      "description": "",
      "description_tooltip": null,
      "layout": "IPY_MODEL_40f851435c88435bbf3bbb4248e1268c",
      "placeholder": "​",
      "style": "IPY_MODEL_6817c8edc2794d9d859d5fe67ca4e7e4",
      "value": " 119/119 [00:00&lt;00:00, 7.81kB/s]"
     }
    },
    "9dce15fbb82443d28669ca06c622330b": {
     "model_module": "@jupyter-widgets/controls",
     "model_module_version": "1.5.0",
     "model_name": "DescriptionStyleModel",
     "state": {
      "_model_module": "@jupyter-widgets/controls",
      "_model_module_version": "1.5.0",
      "_model_name": "DescriptionStyleModel",
      "_view_count": null,
      "_view_module": "@jupyter-widgets/base",
      "_view_module_version": "1.2.0",
      "_view_name": "StyleView",
      "description_width": ""
     }
    },
    "a237d65432d6484c8192b07c862ec131": {
     "model_module": "@jupyter-widgets/base",
     "model_module_version": "1.2.0",
     "model_name": "LayoutModel",
     "state": {
      "_model_module": "@jupyter-widgets/base",
      "_model_module_version": "1.2.0",
      "_model_name": "LayoutModel",
      "_view_count": null,
      "_view_module": "@jupyter-widgets/base",
      "_view_module_version": "1.2.0",
      "_view_name": "LayoutView",
      "align_content": null,
      "align_items": null,
      "align_self": null,
      "border": null,
      "bottom": null,
      "display": null,
      "flex": null,
      "flex_flow": null,
      "grid_area": null,
      "grid_auto_columns": null,
      "grid_auto_flow": null,
      "grid_auto_rows": null,
      "grid_column": null,
      "grid_gap": null,
      "grid_row": null,
      "grid_template_areas": null,
      "grid_template_columns": null,
      "grid_template_rows": null,
      "height": null,
      "justify_content": null,
      "justify_items": null,
      "left": null,
      "margin": null,
      "max_height": null,
      "max_width": null,
      "min_height": null,
      "min_width": null,
      "object_fit": null,
      "object_position": null,
      "order": null,
      "overflow": null,
      "overflow_x": null,
      "overflow_y": null,
      "padding": null,
      "right": null,
      "top": null,
      "visibility": null,
      "width": null
     }
    },
    "a2d7e9dd76d949a2a9b8e053ba9c0ac2": {
     "model_module": "@jupyter-widgets/controls",
     "model_module_version": "1.5.0",
     "model_name": "FloatProgressModel",
     "state": {
      "_dom_classes": [],
      "_model_module": "@jupyter-widgets/controls",
      "_model_module_version": "1.5.0",
      "_model_name": "FloatProgressModel",
      "_view_count": null,
      "_view_module": "@jupyter-widgets/controls",
      "_view_module_version": "1.5.0",
      "_view_name": "ProgressView",
      "bar_style": "success",
      "description": "",
      "description_tooltip": null,
      "layout": "IPY_MODEL_27d7f6d4fea349b492814d032986a3a1",
      "max": 880,
      "min": 0,
      "orientation": "horizontal",
      "style": "IPY_MODEL_4eba335d47394581b59c961292878d7b",
      "value": 880
     }
    },
    "a396cba46dac498f8dae5f0b46f10cb9": {
     "model_module": "@jupyter-widgets/controls",
     "model_module_version": "1.5.0",
     "model_name": "FloatProgressModel",
     "state": {
      "_dom_classes": [],
      "_model_module": "@jupyter-widgets/controls",
      "_model_module_version": "1.5.0",
      "_model_name": "FloatProgressModel",
      "_view_count": null,
      "_view_module": "@jupyter-widgets/controls",
      "_view_module_version": "1.5.0",
      "_view_name": "ProgressView",
      "bar_style": "success",
      "description": "",
      "description_tooltip": null,
      "layout": "IPY_MODEL_1ca2f702caa447c597983b5b2bab3742",
      "max": 528316,
      "min": 0,
      "orientation": "horizontal",
      "style": "IPY_MODEL_ffc41199c10b4fd6bb5a84afcea0e0de",
      "value": 528316
     }
    },
    "ac0cc1f6f52440aeb8c197b946ff2130": {
     "model_module": "@jupyter-widgets/controls",
     "model_module_version": "1.5.0",
     "model_name": "DescriptionStyleModel",
     "state": {
      "_model_module": "@jupyter-widgets/controls",
      "_model_module_version": "1.5.0",
      "_model_name": "DescriptionStyleModel",
      "_view_count": null,
      "_view_module": "@jupyter-widgets/base",
      "_view_module_version": "1.2.0",
      "_view_name": "StyleView",
      "description_width": ""
     }
    },
    "b741a7d6ca584d589a955016c562610c": {
     "model_module": "@jupyter-widgets/controls",
     "model_module_version": "1.5.0",
     "model_name": "DescriptionStyleModel",
     "state": {
      "_model_module": "@jupyter-widgets/controls",
      "_model_module_version": "1.5.0",
      "_model_name": "DescriptionStyleModel",
      "_view_count": null,
      "_view_module": "@jupyter-widgets/base",
      "_view_module_version": "1.2.0",
      "_view_name": "StyleView",
      "description_width": ""
     }
    },
    "b9017beee02f48b2a53ae1df97f38ae7": {
     "model_module": "@jupyter-widgets/controls",
     "model_module_version": "1.5.0",
     "model_name": "FloatProgressModel",
     "state": {
      "_dom_classes": [],
      "_model_module": "@jupyter-widgets/controls",
      "_model_module_version": "1.5.0",
      "_model_name": "FloatProgressModel",
      "_view_count": null,
      "_view_module": "@jupyter-widgets/controls",
      "_view_module_version": "1.5.0",
      "_view_name": "ProgressView",
      "bar_style": "success",
      "description": "",
      "description_tooltip": null,
      "layout": "IPY_MODEL_401f226c08e4436c81f745292cdc195e",
      "max": 112,
      "min": 0,
      "orientation": "horizontal",
      "style": "IPY_MODEL_1fa304d5ee6e4ba0b041107003af2234",
      "value": 112
     }
    },
    "bb17c7582c804309903d385636af738d": {
     "model_module": "@jupyter-widgets/base",
     "model_module_version": "1.2.0",
     "model_name": "LayoutModel",
     "state": {
      "_model_module": "@jupyter-widgets/base",
      "_model_module_version": "1.2.0",
      "_model_name": "LayoutModel",
      "_view_count": null,
      "_view_module": "@jupyter-widgets/base",
      "_view_module_version": "1.2.0",
      "_view_name": "LayoutView",
      "align_content": null,
      "align_items": null,
      "align_self": null,
      "border": null,
      "bottom": null,
      "display": null,
      "flex": null,
      "flex_flow": null,
      "grid_area": null,
      "grid_auto_columns": null,
      "grid_auto_flow": null,
      "grid_auto_rows": null,
      "grid_column": null,
      "grid_gap": null,
      "grid_row": null,
      "grid_template_areas": null,
      "grid_template_columns": null,
      "grid_template_rows": null,
      "height": null,
      "justify_content": null,
      "justify_items": null,
      "left": null,
      "margin": null,
      "max_height": null,
      "max_width": null,
      "min_height": null,
      "min_width": null,
      "object_fit": null,
      "object_position": null,
      "order": null,
      "overflow": null,
      "overflow_x": null,
      "overflow_y": null,
      "padding": null,
      "right": null,
      "top": null,
      "visibility": null,
      "width": null
     }
    },
    "cde20070c60643acb212c7da1fb28c73": {
     "model_module": "@jupyter-widgets/controls",
     "model_module_version": "1.5.0",
     "model_name": "DescriptionStyleModel",
     "state": {
      "_model_module": "@jupyter-widgets/controls",
      "_model_module_version": "1.5.0",
      "_model_name": "DescriptionStyleModel",
      "_view_count": null,
      "_view_module": "@jupyter-widgets/base",
      "_view_module_version": "1.2.0",
      "_view_name": "StyleView",
      "description_width": ""
     }
    },
    "ce3f87f3592b486fa41cd4f917e52408": {
     "model_module": "@jupyter-widgets/base",
     "model_module_version": "1.2.0",
     "model_name": "LayoutModel",
     "state": {
      "_model_module": "@jupyter-widgets/base",
      "_model_module_version": "1.2.0",
      "_model_name": "LayoutModel",
      "_view_count": null,
      "_view_module": "@jupyter-widgets/base",
      "_view_module_version": "1.2.0",
      "_view_name": "LayoutView",
      "align_content": null,
      "align_items": null,
      "align_self": null,
      "border": null,
      "bottom": null,
      "display": null,
      "flex": null,
      "flex_flow": null,
      "grid_area": null,
      "grid_auto_columns": null,
      "grid_auto_flow": null,
      "grid_auto_rows": null,
      "grid_column": null,
      "grid_gap": null,
      "grid_row": null,
      "grid_template_areas": null,
      "grid_template_columns": null,
      "grid_template_rows": null,
      "height": null,
      "justify_content": null,
      "justify_items": null,
      "left": null,
      "margin": null,
      "max_height": null,
      "max_width": null,
      "min_height": null,
      "min_width": null,
      "object_fit": null,
      "object_position": null,
      "order": null,
      "overflow": null,
      "overflow_x": null,
      "overflow_y": null,
      "padding": null,
      "right": null,
      "top": null,
      "visibility": null,
      "width": null
     }
    },
    "ceb5315d8e0f4ab6a6a353852cc012da": {
     "model_module": "@jupyter-widgets/controls",
     "model_module_version": "1.5.0",
     "model_name": "DescriptionStyleModel",
     "state": {
      "_model_module": "@jupyter-widgets/controls",
      "_model_module_version": "1.5.0",
      "_model_name": "DescriptionStyleModel",
      "_view_count": null,
      "_view_module": "@jupyter-widgets/base",
      "_view_module_version": "1.2.0",
      "_view_name": "StyleView",
      "description_width": ""
     }
    },
    "d510b2f8b8d44553911499bdbb1d3261": {
     "model_module": "@jupyter-widgets/base",
     "model_module_version": "1.2.0",
     "model_name": "LayoutModel",
     "state": {
      "_model_module": "@jupyter-widgets/base",
      "_model_module_version": "1.2.0",
      "_model_name": "LayoutModel",
      "_view_count": null,
      "_view_module": "@jupyter-widgets/base",
      "_view_module_version": "1.2.0",
      "_view_name": "LayoutView",
      "align_content": null,
      "align_items": null,
      "align_self": null,
      "border": null,
      "bottom": null,
      "display": null,
      "flex": null,
      "flex_flow": null,
      "grid_area": null,
      "grid_auto_columns": null,
      "grid_auto_flow": null,
      "grid_auto_rows": null,
      "grid_column": null,
      "grid_gap": null,
      "grid_row": null,
      "grid_template_areas": null,
      "grid_template_columns": null,
      "grid_template_rows": null,
      "height": null,
      "justify_content": null,
      "justify_items": null,
      "left": null,
      "margin": null,
      "max_height": null,
      "max_width": null,
      "min_height": null,
      "min_width": null,
      "object_fit": null,
      "object_position": null,
      "order": null,
      "overflow": null,
      "overflow_x": null,
      "overflow_y": null,
      "padding": null,
      "right": null,
      "top": null,
      "visibility": null,
      "width": null
     }
    },
    "db8b6c598a0d4a43b9b6095f84b4caee": {
     "model_module": "@jupyter-widgets/base",
     "model_module_version": "1.2.0",
     "model_name": "LayoutModel",
     "state": {
      "_model_module": "@jupyter-widgets/base",
      "_model_module_version": "1.2.0",
      "_model_name": "LayoutModel",
      "_view_count": null,
      "_view_module": "@jupyter-widgets/base",
      "_view_module_version": "1.2.0",
      "_view_name": "LayoutView",
      "align_content": null,
      "align_items": null,
      "align_self": null,
      "border": null,
      "bottom": null,
      "display": null,
      "flex": null,
      "flex_flow": null,
      "grid_area": null,
      "grid_auto_columns": null,
      "grid_auto_flow": null,
      "grid_auto_rows": null,
      "grid_column": null,
      "grid_gap": null,
      "grid_row": null,
      "grid_template_areas": null,
      "grid_template_columns": null,
      "grid_template_rows": null,
      "height": null,
      "justify_content": null,
      "justify_items": null,
      "left": null,
      "margin": null,
      "max_height": null,
      "max_width": null,
      "min_height": null,
      "min_width": null,
      "object_fit": null,
      "object_position": null,
      "order": null,
      "overflow": null,
      "overflow_x": null,
      "overflow_y": null,
      "padding": null,
      "right": null,
      "top": null,
      "visibility": null,
      "width": null
     }
    },
    "de4f4566200a48418a22ca2537c505a9": {
     "model_module": "@jupyter-widgets/controls",
     "model_module_version": "1.5.0",
     "model_name": "ProgressStyleModel",
     "state": {
      "_model_module": "@jupyter-widgets/controls",
      "_model_module_version": "1.5.0",
      "_model_name": "ProgressStyleModel",
      "_view_count": null,
      "_view_module": "@jupyter-widgets/base",
      "_view_module_version": "1.2.0",
      "_view_name": "StyleView",
      "bar_color": null,
      "description_width": ""
     }
    },
    "e2467fa2af32402a8da2cd57bb3c775c": {
     "model_module": "@jupyter-widgets/controls",
     "model_module_version": "1.5.0",
     "model_name": "HTMLModel",
     "state": {
      "_dom_classes": [],
      "_model_module": "@jupyter-widgets/controls",
      "_model_module_version": "1.5.0",
      "_model_name": "HTMLModel",
      "_view_count": null,
      "_view_module": "@jupyter-widgets/controls",
      "_view_module_version": "1.5.0",
      "_view_name": "HTMLView",
      "description": "",
      "description_tooltip": null,
      "layout": "IPY_MODEL_52d6a888db954509a4f8ebedf7619f52",
      "placeholder": "​",
      "style": "IPY_MODEL_9dce15fbb82443d28669ca06c622330b",
      "value": "special_tokens_map.json: 100%"
     }
    },
    "e74a912b23e2445ebe6bd051f10356c2": {
     "model_module": "@jupyter-widgets/base",
     "model_module_version": "1.2.0",
     "model_name": "LayoutModel",
     "state": {
      "_model_module": "@jupyter-widgets/base",
      "_model_module_version": "1.2.0",
      "_model_name": "LayoutModel",
      "_view_count": null,
      "_view_module": "@jupyter-widgets/base",
      "_view_module_version": "1.2.0",
      "_view_name": "LayoutView",
      "align_content": null,
      "align_items": null,
      "align_self": null,
      "border": null,
      "bottom": null,
      "display": null,
      "flex": null,
      "flex_flow": null,
      "grid_area": null,
      "grid_auto_columns": null,
      "grid_auto_flow": null,
      "grid_auto_rows": null,
      "grid_column": null,
      "grid_gap": null,
      "grid_row": null,
      "grid_template_areas": null,
      "grid_template_columns": null,
      "grid_template_rows": null,
      "height": null,
      "justify_content": null,
      "justify_items": null,
      "left": null,
      "margin": null,
      "max_height": null,
      "max_width": null,
      "min_height": null,
      "min_width": null,
      "object_fit": null,
      "object_position": null,
      "order": null,
      "overflow": null,
      "overflow_x": null,
      "overflow_y": null,
      "padding": null,
      "right": null,
      "top": null,
      "visibility": null,
      "width": null
     }
    },
    "ebc92812a0324b4cbad93a689b2a5c9a": {
     "model_module": "@jupyter-widgets/controls",
     "model_module_version": "1.5.0",
     "model_name": "DescriptionStyleModel",
     "state": {
      "_model_module": "@jupyter-widgets/controls",
      "_model_module_version": "1.5.0",
      "_model_name": "DescriptionStyleModel",
      "_view_count": null,
      "_view_module": "@jupyter-widgets/base",
      "_view_module_version": "1.2.0",
      "_view_name": "StyleView",
      "description_width": ""
     }
    },
    "ec824297a3eb44bb93b3e5a42720169b": {
     "model_module": "@jupyter-widgets/controls",
     "model_module_version": "1.5.0",
     "model_name": "HTMLModel",
     "state": {
      "_dom_classes": [],
      "_model_module": "@jupyter-widgets/controls",
      "_model_module_version": "1.5.0",
      "_model_name": "HTMLModel",
      "_view_count": null,
      "_view_module": "@jupyter-widgets/controls",
      "_view_module_version": "1.5.0",
      "_view_name": "HTMLView",
      "description": "",
      "description_tooltip": null,
      "layout": "IPY_MODEL_7980e87caac54eebbb8b170728b5214c",
      "placeholder": "​",
      "style": "IPY_MODEL_ac0cc1f6f52440aeb8c197b946ff2130",
      "value": " 112/112 [00:00&lt;00:00, 8.63kB/s]"
     }
    },
    "f88f36619f07484da065b607fcae9a99": {
     "model_module": "@jupyter-widgets/base",
     "model_module_version": "1.2.0",
     "model_name": "LayoutModel",
     "state": {
      "_model_module": "@jupyter-widgets/base",
      "_model_module_version": "1.2.0",
      "_model_name": "LayoutModel",
      "_view_count": null,
      "_view_module": "@jupyter-widgets/base",
      "_view_module_version": "1.2.0",
      "_view_name": "LayoutView",
      "align_content": null,
      "align_items": null,
      "align_self": null,
      "border": null,
      "bottom": null,
      "display": null,
      "flex": null,
      "flex_flow": null,
      "grid_area": null,
      "grid_auto_columns": null,
      "grid_auto_flow": null,
      "grid_auto_rows": null,
      "grid_column": null,
      "grid_gap": null,
      "grid_row": null,
      "grid_template_areas": null,
      "grid_template_columns": null,
      "grid_template_rows": null,
      "height": null,
      "justify_content": null,
      "justify_items": null,
      "left": null,
      "margin": null,
      "max_height": null,
      "max_width": null,
      "min_height": null,
      "min_width": null,
      "object_fit": null,
      "object_position": null,
      "order": null,
      "overflow": null,
      "overflow_x": null,
      "overflow_y": null,
      "padding": null,
      "right": null,
      "top": null,
      "visibility": null,
      "width": null
     }
    },
    "fafcee897eef4ea6a5cca53d0f82bef7": {
     "model_module": "@jupyter-widgets/controls",
     "model_module_version": "1.5.0",
     "model_name": "HBoxModel",
     "state": {
      "_dom_classes": [],
      "_model_module": "@jupyter-widgets/controls",
      "_model_module_version": "1.5.0",
      "_model_name": "HBoxModel",
      "_view_count": null,
      "_view_module": "@jupyter-widgets/controls",
      "_view_module_version": "1.5.0",
      "_view_name": "HBoxView",
      "box_style": "",
      "children": [
       "IPY_MODEL_e2467fa2af32402a8da2cd57bb3c775c",
       "IPY_MODEL_b9017beee02f48b2a53ae1df97f38ae7",
       "IPY_MODEL_ec824297a3eb44bb93b3e5a42720169b"
      ],
      "layout": "IPY_MODEL_f88f36619f07484da065b607fcae9a99"
     }
    },
    "ffc41199c10b4fd6bb5a84afcea0e0de": {
     "model_module": "@jupyter-widgets/controls",
     "model_module_version": "1.5.0",
     "model_name": "ProgressStyleModel",
     "state": {
      "_model_module": "@jupyter-widgets/controls",
      "_model_module_version": "1.5.0",
      "_model_name": "ProgressStyleModel",
      "_view_count": null,
      "_view_module": "@jupyter-widgets/base",
      "_view_module_version": "1.2.0",
      "_view_name": "StyleView",
      "bar_color": null,
      "description_width": ""
     }
    }
   }
  }
 },
 "nbformat": 4,
 "nbformat_minor": 0
}
